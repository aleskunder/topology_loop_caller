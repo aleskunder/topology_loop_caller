{
 "cells": [
  {
   "cell_type": "code",
   "execution_count": 1,
   "metadata": {},
   "outputs": [
    {
     "name": "stdout",
     "output_type": "stream",
     "text": [
      "Hello World\n"
     ]
    }
   ],
   "source": [
    "println(\"Hello World\")\n"
   ]
  },
  {
   "cell_type": "code",
   "execution_count": 2,
   "metadata": {},
   "outputs": [
    {
     "name": "stderr",
     "output_type": "stream",
     "text": [
      "┌ Info: Precompiling NPZ [15e1cf62-19b3-5cfa-8e77-841668bca605]\n",
      "└ @ Base loading.jl:1260\n"
     ]
    }
   ],
   "source": [
    "#Open the fragment of Hi-C matrix in Julia and build histogram of unique matrix values\n",
    "#using Plots\n",
    "#import Pkg; Pkg.add(\"Distributions\"); Pkg.add(\"NPZ\")\n",
    "#using Distributions\n",
    "using NPZ\n",
    "\n",
    "io = npzread(\"test.npy\");\n",
    "#histogram(vec(io))"
   ]
  },
  {
   "cell_type": "code",
   "execution_count": 1,
   "metadata": {},
   "outputs": [
    {
     "data": {
      "text/html": [
       "<script>\n",
       "// Immediately-invoked-function-expression to avoid global variables.\n",
       "(function() {\n",
       "    var warning_div = document.getElementById(\"webio-warning-14053904617315591317\");\n",
       "    var hide = function () {\n",
       "        var script = document.getElementById(\"webio-setup-9556218723796230835\");\n",
       "        var parent = script && script.parentElement;\n",
       "        var grandparent = parent && parent.parentElement;\n",
       "        if (grandparent) {\n",
       "            grandparent.style.display = \"none\";\n",
       "        }\n",
       "        warning_div.style.display = \"none\";\n",
       "    };\n",
       "    if (typeof Jupyter !== \"undefined\") {\n",
       "        console.log(\"WebIO detected Jupyter notebook environment.\");\n",
       "        // Jupyter notebook.\n",
       "        var extensions = (\n",
       "            Jupyter\n",
       "            && Jupyter.notebook.config.data\n",
       "            && Jupyter.notebook.config.data.load_extensions\n",
       "        );\n",
       "        if (extensions && extensions[\"webio-jupyter-notebook\"]) {\n",
       "            // Extension already loaded.\n",
       "            console.log(\"Jupyter WebIO nbextension detected; not loading ad-hoc.\");\n",
       "            hide();\n",
       "            return;\n",
       "        }\n",
       "    } else if (window.location.pathname.includes(\"/lab\")) {\n",
       "        // Guessing JupyterLa\n",
       "        console.log(\"Jupyter Lab detected; make sure the @webio/jupyter-lab-provider labextension is installed.\");\n",
       "        hide();\n",
       "        return;\n",
       "    }\n",
       "})();\n",
       "\n",
       "</script>\n",
       "<p\n",
       "    id=\"webio-warning-14053904617315591317\"\n",
       "    class=\"output_text output_stderr\"\n",
       "    style=\"padding: 1em; font-weight: bold;\"\n",
       ">\n",
       "    Unable to load WebIO. Please make sure WebIO works for your Jupyter client.\n",
       "    For troubleshooting, please see <a href=\"https://juliagizmos.github.io/WebIO.jl/latest/providers/ijulia/\">\n",
       "    the WebIO/IJulia documentation</a>.\n",
       "    <!-- TODO: link to installation docs. -->\n",
       "</p>\n"
      ],
      "text/plain": [
       "HTML{String}(\"<script>\\n// Immediately-invoked-function-expression to avoid global variables.\\n(function() {\\n    var warning_div = document.getElementById(\\\"webio-warning-14053904617315591317\\\");\\n    var hide = function () {\\n        var script = document.getElementById(\\\"webio-setup-9556218723796230835\\\");\\n        var parent = script && script.parentElement;\\n        var grandparent = parent && parent.parentElement;\\n        if (grandparent) {\\n            grandparent.style.display = \\\"none\\\";\\n        }\\n        warning_div.style.display = \\\"none\\\";\\n    };\\n    if (typeof Jupyter !== \\\"undefined\\\") {\\n        console.log(\\\"WebIO detected Jupyter notebook environment.\\\");\\n        // Jupyter notebook.\\n        var extensions = (\\n            Jupyter\\n            && Jupyter.notebook.config.data\\n            && Jupyter.notebook.config.data.load_extensions\\n        );\\n        if (extensions && extensions[\\\"webio-jupyter-notebook\\\"]) {\\n            // Extension already loaded.\\n            console.log(\\\"Jupyter WebIO nbextension detected; not loading ad-hoc.\\\");\\n            hide();\\n            return;\\n        }\\n    } else if (window.location.pathname.includes(\\\"/lab\\\")) {\\n        // Guessing JupyterLa\\n        console.log(\\\"Jupyter Lab detected; make sure the @webio/jupyter-lab-provider labextension is installed.\\\");\\n        hide();\\n        return;\\n    }\\n})();\\n\\n</script>\\n<p\\n    id=\\\"webio-warning-14053904617315591317\\\"\\n    class=\\\"output_text output_stderr\\\"\\n    style=\\\"padding: 1em; font-weight: bold;\\\"\\n>\\n    Unable to load WebIO. Please make sure WebIO works for your Jupyter client.\\n    For troubleshooting, please see <a href=\\\"https://juliagizmos.github.io/WebIO.jl/latest/providers/ijulia/\\\">\\n    the WebIO/IJulia documentation</a>.\\n    <!-- TODO: link to installation docs. -->\\n</p>\\n\")"
      ]
     },
     "metadata": {},
     "output_type": "display_data"
    }
   ],
   "source": [
    "using Eirene"
   ]
  },
  {
   "cell_type": "code",
   "execution_count": 4,
   "metadata": {},
   "outputs": [
    {
     "data": {
      "text/plain": [
       "Dict{String,Any} with 12 entries:\n",
       "  \"symmat\"   => [3349 3052 … 1 1; 3052 3349 … 1 1; … ; 1 1 … 3349 1; 1 1 … 1 33…\n",
       "  \"maxnz\"    => [0, 1433, 30987, 1, 0]\n",
       "  \"firstv\"   => [[1, 2, 3, 4, 5, 6, 7, 8, 9, 10  …  92, 93, 94, 95, 96, 97, 98,…\n",
       "  \"cyclerep\" => [[], [[2, 3], [31, 33], [65, 63], [16, 25], [68, 70], [55, 59],…\n",
       "  \"phi\"      => [[], [100, 2537, 4249, 1389, 4424, 3919, 1384, 4864, 4214, 5  ……\n",
       "  \"plo\"      => [[], [3, 33, 63, 25, 70, 59, 20, 87, 62, 6  …  61, 14, 11, 83, …\n",
       "  \"ocg2rad\"  => [1.0, 0.993309, 0.991109, 0.987027, 0.982623, 0.979922, 0.97485…\n",
       "  \"farfaces\" => [[1, 2, 3, 4, 5, 6, 7, 8, 9, 10  …  91, 92, 93, 94, 95, 96, 97,…\n",
       "  \"nvl2ovl\"  => [52, 48, 49, 68, 46, 53, 69, 39, 54, 47  …  5, 99, 100, 2, 1, 6…\n",
       "  \"input\"    => Dict{String,Any}(\"genera\"=>[0.0 1.0 … 1.0 1.0; 1.0 0.0 … 1.0 1.…\n",
       "  \"tid\"      => [[], [3, 33, 63, 25, 70, 59, 20, 87, 62, 6  …  14, 11, 83, 55, …\n",
       "  \"grain\"    => [[3349, 3349, 3349, 3349, 3349, 3349, 3349, 3349, 3349, 3349  ……"
      ]
     },
     "execution_count": 4,
     "metadata": {},
     "output_type": "execute_result"
    }
   ],
   "source": [
    "#Use Eirene to find homologies for the matrix (warning: use no more than 100x100 matrix size)\n",
    "C = eirene(io)\n",
    "\n"
   ]
  },
  {
   "cell_type": "code",
   "execution_count": 5,
   "metadata": {},
   "outputs": [
    {
     "data": {
      "application/vnd.plotly.v1+json": {
       "data": [
        {
         "line": {
          "color": "#66BAE7",
          "width": 2
         },
         "mode": "lines",
         "showlegend": false,
         "type": "scatter",
         "x": [
          0.7340723448214262,
          0.7416515337803564
         ],
         "y": [
          32,
          32
         ]
        },
        {
         "line": {
          "color": "#66BAE7",
          "width": 2
         },
         "mode": "lines",
         "showlegend": false,
         "type": "scatter",
         "x": [
          0.6533062098352262,
          0.6767180199830277
         ],
         "y": [
          31,
          31
         ]
        },
        {
         "line": {
          "color": "#66BAE7",
          "width": 2
         },
         "mode": "lines",
         "showlegend": false,
         "type": "scatter",
         "x": [
          0.6416325421591662,
          0.6742355421900007
         ],
         "y": [
          30,
          30
         ]
        },
        {
         "line": {
          "color": "#66BAE7",
          "width": 2
         },
         "mode": "lines",
         "showlegend": false,
         "type": "scatter",
         "x": [
          0.6248311566761308,
          0.6801279003681643
         ],
         "y": [
          29,
          29
         ]
        },
        {
         "line": {
          "color": "#66BAE7",
          "width": 2
         },
         "mode": "lines",
         "showlegend": false,
         "type": "scatter",
         "x": [
          0.6147883563912693,
          0.6362837112095501
         ],
         "y": [
          28,
          28
         ]
        },
        {
         "line": {
          "color": "#66BAE7",
          "width": 2
         },
         "mode": "lines",
         "showlegend": false,
         "type": "scatter",
         "x": [
          0.6127802680971863,
          0.6426137298094923
         ],
         "y": [
          27,
          27
         ]
        },
        {
         "line": {
          "color": "#66BAE7",
          "width": 2
         },
         "mode": "lines",
         "showlegend": false,
         "type": "scatter",
         "x": [
          0.6078826025089031,
          0.6860236439498764
         ],
         "y": [
          26,
          26
         ]
        },
        {
         "line": {
          "color": "#66BAE7",
          "width": 2
         },
         "mode": "lines",
         "showlegend": false,
         "type": "scatter",
         "x": [
          0.6036254515898798,
          0.6044973873857651
         ],
         "y": [
          25,
          25
         ]
        },
        {
         "line": {
          "color": "#66BAE7",
          "width": 2
         },
         "mode": "lines",
         "showlegend": false,
         "type": "scatter",
         "x": [
          0.5847813473167014,
          0.5931794422551812
         ],
         "y": [
          24,
          24
         ]
        },
        {
         "line": {
          "color": "#66BAE7",
          "width": 2
         },
         "mode": "lines",
         "showlegend": false,
         "type": "scatter",
         "x": [
          0.5659716721599862,
          0.5995851868995055
         ],
         "y": [
          23,
          23
         ]
        },
        {
         "line": {
          "color": "#66BAE7",
          "width": 2
         },
         "mode": "lines",
         "showlegend": false,
         "type": "scatter",
         "x": [
          0.5418560337627542,
          0.575642079574036
         ],
         "y": [
          22,
          22
         ]
        },
        {
         "line": {
          "color": "#66BAE7",
          "width": 2
         },
         "mode": "lines",
         "showlegend": false,
         "type": "scatter",
         "x": [
          0.5391536804868015,
          0.5507912304244713
         ],
         "y": [
          21,
          21
         ]
        },
        {
         "line": {
          "color": "#66BAE7",
          "width": 2
         },
         "mode": "lines",
         "showlegend": false,
         "type": "scatter",
         "x": [
          0.4758281720477544,
          0.4859773195174419
         ],
         "y": [
          20,
          20
         ]
        },
        {
         "line": {
          "color": "#66BAE7",
          "width": 2
         },
         "mode": "lines",
         "showlegend": false,
         "type": "scatter",
         "x": [
          0.47292243122327576,
          0.4762004380182375
         ],
         "y": [
          19,
          19
         ]
        },
        {
         "line": {
          "color": "#66BAE7",
          "width": 2
         },
         "mode": "lines",
         "showlegend": false,
         "type": "scatter",
         "x": [
          0.4697969355476122,
          0.48972355170329623
         ],
         "y": [
          18,
          18
         ]
        },
        {
         "line": {
          "color": "#66BAE7",
          "width": 2
         },
         "mode": "lines",
         "showlegend": false,
         "type": "scatter",
         "x": [
          0.46440415408300983,
          0.47222813406121816
         ],
         "y": [
          17,
          17
         ]
        },
        {
         "line": {
          "color": "#66BAE7",
          "width": 2
         },
         "mode": "lines",
         "showlegend": false,
         "type": "scatter",
         "x": [
          0.46281290247732626,
          0.6095547658054494
         ],
         "y": [
          16,
          16
         ]
        },
        {
         "line": {
          "color": "#66BAE7",
          "width": 2
         },
         "mode": "lines",
         "showlegend": false,
         "type": "scatter",
         "x": [
          0.45687838963134514,
          0.46788115371196404
         ],
         "y": [
          15,
          15
         ]
        },
        {
         "line": {
          "color": "#66BAE7",
          "width": 2
         },
         "mode": "lines",
         "showlegend": false,
         "type": "scatter",
         "x": [
          0.45570515943026135,
          0.4769175270130065
         ],
         "y": [
          14,
          14
         ]
        },
        {
         "line": {
          "color": "#66BAE7",
          "width": 2
         },
         "mode": "lines",
         "showlegend": false,
         "type": "scatter",
         "x": [
          0.4547985712387913,
          0.4586349431012176
         ],
         "y": [
          13,
          13
         ]
        },
        {
         "line": {
          "color": "#66BAE7",
          "width": 2
         },
         "mode": "lines",
         "showlegend": false,
         "type": "scatter",
         "x": [
          0.44799976886800885,
          0.46758187526867645
         ],
         "y": [
          12,
          12
         ]
        },
        {
         "line": {
          "color": "#66BAE7",
          "width": 2
         },
         "mode": "lines",
         "showlegend": false,
         "type": "scatter",
         "x": [
          0.4395621783773746,
          0.44344588326645296
         ],
         "y": [
          11,
          11
         ]
        },
        {
         "line": {
          "color": "#66BAE7",
          "width": 2
         },
         "mode": "lines",
         "showlegend": false,
         "type": "scatter",
         "x": [
          0.43752157296078603,
          0.4497328129753096
         ],
         "y": [
          10,
          10
         ]
        },
        {
         "line": {
          "color": "#66BAE7",
          "width": 2
         },
         "mode": "lines",
         "showlegend": false,
         "type": "scatter",
         "x": [
          0.4289964854104258,
          0.43119459399000254
         ],
         "y": [
          9,
          9
         ]
        },
        {
         "line": {
          "color": "#66BAE7",
          "width": 2
         },
         "mode": "lines",
         "showlegend": false,
         "type": "scatter",
         "x": [
          0.42898773881616936,
          0.4371657638898499
         ],
         "y": [
          8,
          8
         ]
        },
        {
         "line": {
          "color": "#66BAE7",
          "width": 2
         },
         "mode": "lines",
         "showlegend": false,
         "type": "scatter",
         "x": [
          0.42382053877281795,
          0.42408500047917497
         ],
         "y": [
          7,
          7
         ]
        },
        {
         "line": {
          "color": "#66BAE7",
          "width": 2
         },
         "mode": "lines",
         "showlegend": false,
         "type": "scatter",
         "x": [
          0.40997220217942276,
          0.45159124893154856
         ],
         "y": [
          6,
          6
         ]
        },
        {
         "line": {
          "color": "#66BAE7",
          "width": 2
         },
         "mode": "lines",
         "showlegend": false,
         "type": "scatter",
         "x": [
          0.4059324568822074,
          0.43741141316464693
         ],
         "y": [
          5,
          5
         ]
        },
        {
         "line": {
          "color": "#66BAE7",
          "width": 2
         },
         "mode": "lines",
         "showlegend": false,
         "type": "scatter",
         "x": [
          0.40480593459937314,
          0.4609353088100449
         ],
         "y": [
          4,
          4
         ]
        },
        {
         "line": {
          "color": "#66BAE7",
          "width": 2
         },
         "mode": "lines",
         "showlegend": false,
         "type": "scatter",
         "x": [
          0.3968440945284858,
          0.3983574517149339
         ],
         "y": [
          3,
          3
         ]
        },
        {
         "line": {
          "color": "#66BAE7",
          "width": 2
         },
         "mode": "lines",
         "showlegend": false,
         "type": "scatter",
         "x": [
          0.39185828445714255,
          0.4242977871196399
         ],
         "y": [
          2,
          2
         ]
        },
        {
         "line": {
          "color": "#66BAE7",
          "width": 2
         },
         "mode": "lines",
         "name": "Dimension 1",
         "type": "scatter",
         "x": [
          0.3915679613833261,
          0.4104226774747992
         ],
         "y": [
          1,
          1
         ]
        }
       ],
       "frames": [],
       "layout": {
        "margin": {
         "b": 50,
         "l": 50,
         "r": 50,
         "t": 60
        },
        "xaxis": {
         "rangevar": [
          -0.001,
          0.7426515337803564
         ],
         "showgrid": false,
         "title": "ϵ",
         "zeroline": false
        },
        "yaxis": {
         "rangevar": [
          0,
          32.1
         ],
         "showgrid": false,
         "ticks": false
        }
       }
      },
      "application/vnd.webio.node+json": {
       "children": [
        {
         "children": [],
         "instanceArgs": {
          "namespace": "html",
          "tag": "div"
         },
         "nodeType": "DOM",
         "props": {
          "id": "plot-b6e90180-d31f-4429-bea7-ecdd314717ce"
         },
         "type": "node"
        }
       ],
       "instanceArgs": {
        "handlers": {
         "__get_gd_contents": [
          "(function (prop){prop==\"data\" ? (WebIO.setval({\"name\":\"__gd_contents\",\"scope\":\"2045491438411123866\",\"id\":\"10294001292025998525\",\"type\":\"observable\"},this.plotElem.data)) : undefined; return prop==\"layout\" ? (WebIO.setval({\"name\":\"__gd_contents\",\"scope\":\"2045491438411123866\",\"id\":\"10294001292025998525\",\"type\":\"observable\"},this.plotElem.layout)) : undefined})"
         ],
         "_commands": [
          "(function (args){var fn=args.shift(); var elem=this.plotElem; var Plotly=this.Plotly; args.unshift(elem); return Plotly[fn].apply(this,args)})"
         ],
         "_downloadImage": [
          "(function (options){return this.Plotly.downloadImage(this.plotElem,options)})"
         ],
         "_toImage": [
          "(function (options){return this.Plotly.toImage(this.plotElem,options).then((function (data){return WebIO.setval({\"name\":\"image\",\"scope\":\"2045491438411123866\",\"id\":\"4116643421092474080\",\"type\":\"observable\"},data)}))})"
         ]
        },
        "id": "2045491438411123866",
        "imports": {
         "data": [
          {
           "name": "Plotly",
           "type": "js",
           "url": "/assetserver/b3a562c629e4214a506d0182e45e3c09deead92f-plotly-latest.min.js"
          },
          {
           "name": null,
           "type": "js",
           "url": "/assetserver/6abd48d41ff55cbb816dd18213c29492a550b0d0-plotly_webio.bundle.js"
          }
         ],
         "type": "async_block"
        },
        "mount_callbacks": [
         "function () {\n    var handler = ((function (Plotly,PlotlyWebIO){PlotlyWebIO.init(WebIO); var gd=this.dom.querySelector(\"#plot-b6e90180-d31f-4429-bea7-ecdd314717ce\"); this.plotElem=gd; this.Plotly=Plotly; (window.Blink!==undefined) ? (gd.style.width=\"100%\", gd.style.height=\"100vh\", gd.style.marginLeft=\"0%\", gd.style.marginTop=\"0vh\") : undefined; window.onresize=(function (){return Plotly.Plots.resize(gd)}); Plotly.newPlot(gd,[{\"showlegend\":false,\"mode\":\"lines\",\"line\":{\"color\":\"#66BAE7\",\"width\":2},\"y\":[32,32],\"type\":\"scatter\",\"x\":[0.7340723448214262,0.7416515337803564]},{\"showlegend\":false,\"mode\":\"lines\",\"line\":{\"color\":\"#66BAE7\",\"width\":2},\"y\":[31,31],\"type\":\"scatter\",\"x\":[0.6533062098352262,0.6767180199830277]},{\"showlegend\":false,\"mode\":\"lines\",\"line\":{\"color\":\"#66BAE7\",\"width\":2},\"y\":[30,30],\"type\":\"scatter\",\"x\":[0.6416325421591662,0.6742355421900007]},{\"showlegend\":false,\"mode\":\"lines\",\"line\":{\"color\":\"#66BAE7\",\"width\":2},\"y\":[29,29],\"type\":\"scatter\",\"x\":[0.6248311566761308,0.6801279003681643]},{\"showlegend\":false,\"mode\":\"lines\",\"line\":{\"color\":\"#66BAE7\",\"width\":2},\"y\":[28,28],\"type\":\"scatter\",\"x\":[0.6147883563912693,0.6362837112095501]},{\"showlegend\":false,\"mode\":\"lines\",\"line\":{\"color\":\"#66BAE7\",\"width\":2},\"y\":[27,27],\"type\":\"scatter\",\"x\":[0.6127802680971863,0.6426137298094923]},{\"showlegend\":false,\"mode\":\"lines\",\"line\":{\"color\":\"#66BAE7\",\"width\":2},\"y\":[26,26],\"type\":\"scatter\",\"x\":[0.6078826025089031,0.6860236439498764]},{\"showlegend\":false,\"mode\":\"lines\",\"line\":{\"color\":\"#66BAE7\",\"width\":2},\"y\":[25,25],\"type\":\"scatter\",\"x\":[0.6036254515898798,0.6044973873857651]},{\"showlegend\":false,\"mode\":\"lines\",\"line\":{\"color\":\"#66BAE7\",\"width\":2},\"y\":[24,24],\"type\":\"scatter\",\"x\":[0.5847813473167014,0.5931794422551812]},{\"showlegend\":false,\"mode\":\"lines\",\"line\":{\"color\":\"#66BAE7\",\"width\":2},\"y\":[23,23],\"type\":\"scatter\",\"x\":[0.5659716721599862,0.5995851868995055]},{\"showlegend\":false,\"mode\":\"lines\",\"line\":{\"color\":\"#66BAE7\",\"width\":2},\"y\":[22,22],\"type\":\"scatter\",\"x\":[0.5418560337627542,0.575642079574036]},{\"showlegend\":false,\"mode\":\"lines\",\"line\":{\"color\":\"#66BAE7\",\"width\":2},\"y\":[21,21],\"type\":\"scatter\",\"x\":[0.5391536804868015,0.5507912304244713]},{\"showlegend\":false,\"mode\":\"lines\",\"line\":{\"color\":\"#66BAE7\",\"width\":2},\"y\":[20,20],\"type\":\"scatter\",\"x\":[0.4758281720477544,0.4859773195174419]},{\"showlegend\":false,\"mode\":\"lines\",\"line\":{\"color\":\"#66BAE7\",\"width\":2},\"y\":[19,19],\"type\":\"scatter\",\"x\":[0.47292243122327576,0.4762004380182375]},{\"showlegend\":false,\"mode\":\"lines\",\"line\":{\"color\":\"#66BAE7\",\"width\":2},\"y\":[18,18],\"type\":\"scatter\",\"x\":[0.4697969355476122,0.48972355170329623]},{\"showlegend\":false,\"mode\":\"lines\",\"line\":{\"color\":\"#66BAE7\",\"width\":2},\"y\":[17,17],\"type\":\"scatter\",\"x\":[0.46440415408300983,0.47222813406121816]},{\"showlegend\":false,\"mode\":\"lines\",\"line\":{\"color\":\"#66BAE7\",\"width\":2},\"y\":[16,16],\"type\":\"scatter\",\"x\":[0.46281290247732626,0.6095547658054494]},{\"showlegend\":false,\"mode\":\"lines\",\"line\":{\"color\":\"#66BAE7\",\"width\":2},\"y\":[15,15],\"type\":\"scatter\",\"x\":[0.45687838963134514,0.46788115371196404]},{\"showlegend\":false,\"mode\":\"lines\",\"line\":{\"color\":\"#66BAE7\",\"width\":2},\"y\":[14,14],\"type\":\"scatter\",\"x\":[0.45570515943026135,0.4769175270130065]},{\"showlegend\":false,\"mode\":\"lines\",\"line\":{\"color\":\"#66BAE7\",\"width\":2},\"y\":[13,13],\"type\":\"scatter\",\"x\":[0.4547985712387913,0.4586349431012176]},{\"showlegend\":false,\"mode\":\"lines\",\"line\":{\"color\":\"#66BAE7\",\"width\":2},\"y\":[12,12],\"type\":\"scatter\",\"x\":[0.44799976886800885,0.46758187526867645]},{\"showlegend\":false,\"mode\":\"lines\",\"line\":{\"color\":\"#66BAE7\",\"width\":2},\"y\":[11,11],\"type\":\"scatter\",\"x\":[0.4395621783773746,0.44344588326645296]},{\"showlegend\":false,\"mode\":\"lines\",\"line\":{\"color\":\"#66BAE7\",\"width\":2},\"y\":[10,10],\"type\":\"scatter\",\"x\":[0.43752157296078603,0.4497328129753096]},{\"showlegend\":false,\"mode\":\"lines\",\"line\":{\"color\":\"#66BAE7\",\"width\":2},\"y\":[9,9],\"type\":\"scatter\",\"x\":[0.4289964854104258,0.43119459399000254]},{\"showlegend\":false,\"mode\":\"lines\",\"line\":{\"color\":\"#66BAE7\",\"width\":2},\"y\":[8,8],\"type\":\"scatter\",\"x\":[0.42898773881616936,0.4371657638898499]},{\"showlegend\":false,\"mode\":\"lines\",\"line\":{\"color\":\"#66BAE7\",\"width\":2},\"y\":[7,7],\"type\":\"scatter\",\"x\":[0.42382053877281795,0.42408500047917497]},{\"showlegend\":false,\"mode\":\"lines\",\"line\":{\"color\":\"#66BAE7\",\"width\":2},\"y\":[6,6],\"type\":\"scatter\",\"x\":[0.40997220217942276,0.45159124893154856]},{\"showlegend\":false,\"mode\":\"lines\",\"line\":{\"color\":\"#66BAE7\",\"width\":2},\"y\":[5,5],\"type\":\"scatter\",\"x\":[0.4059324568822074,0.43741141316464693]},{\"showlegend\":false,\"mode\":\"lines\",\"line\":{\"color\":\"#66BAE7\",\"width\":2},\"y\":[4,4],\"type\":\"scatter\",\"x\":[0.40480593459937314,0.4609353088100449]},{\"showlegend\":false,\"mode\":\"lines\",\"line\":{\"color\":\"#66BAE7\",\"width\":2},\"y\":[3,3],\"type\":\"scatter\",\"x\":[0.3968440945284858,0.3983574517149339]},{\"showlegend\":false,\"mode\":\"lines\",\"line\":{\"color\":\"#66BAE7\",\"width\":2},\"y\":[2,2],\"type\":\"scatter\",\"x\":[0.39185828445714255,0.4242977871196399]},{\"mode\":\"lines\",\"line\":{\"color\":\"#66BAE7\",\"width\":2},\"y\":[1,1],\"type\":\"scatter\",\"name\":\"Dimension 1\",\"x\":[0.3915679613833261,0.4104226774747992]}],{\"xaxis\":{\"showgrid\":false,\"zeroline\":false,\"rangevar\":[-0.001,0.7426515337803564],\"title\":\"ϵ\"},\"margin\":{\"l\":50,\"b\":50,\"r\":50,\"t\":60},\"yaxis\":{\"showgrid\":false,\"rangevar\":[0.0,32.1],\"ticks\":false}},{}); gd.on(\"plotly_hover\",(function (data){var filtered_data=WebIO.PlotlyCommands.filterEventData(gd,data,\"hover\"); return !(filtered_data.isnil) ? (WebIO.setval({\"name\":\"hover\",\"scope\":\"2045491438411123866\",\"id\":\"17670459849401430015\",\"type\":\"observable\"},filtered_data.out)) : undefined})); gd.on(\"plotly_unhover\",(function (){return WebIO.setval({\"name\":\"hover\",\"scope\":\"2045491438411123866\",\"id\":\"17670459849401430015\",\"type\":\"observable\"},{})})); gd.on(\"plotly_selected\",(function (data){var filtered_data=WebIO.PlotlyCommands.filterEventData(gd,data,\"selected\"); return !(filtered_data.isnil) ? (WebIO.setval({\"name\":\"selected\",\"scope\":\"2045491438411123866\",\"id\":\"9061672880993917479\",\"type\":\"observable\"},filtered_data.out)) : undefined})); gd.on(\"plotly_deselect\",(function (){return WebIO.setval({\"name\":\"selected\",\"scope\":\"2045491438411123866\",\"id\":\"9061672880993917479\",\"type\":\"observable\"},{})})); gd.on(\"plotly_relayout\",(function (data){var filtered_data=WebIO.PlotlyCommands.filterEventData(gd,data,\"relayout\"); return !(filtered_data.isnil) ? (WebIO.setval({\"name\":\"relayout\",\"scope\":\"2045491438411123866\",\"id\":\"1058739226617231177\",\"type\":\"observable\"},filtered_data.out)) : undefined})); return gd.on(\"plotly_click\",(function (data){var filtered_data=WebIO.PlotlyCommands.filterEventData(gd,data,\"click\"); return !(filtered_data.isnil) ? (WebIO.setval({\"name\":\"click\",\"scope\":\"2045491438411123866\",\"id\":\"7807103956766211531\",\"type\":\"observable\"},filtered_data.out)) : undefined}))}));\n    (WebIO.importBlock({\"data\":[{\"name\":\"Plotly\",\"type\":\"js\",\"url\":\"/assetserver/b3a562c629e4214a506d0182e45e3c09deead92f-plotly-latest.min.js\"},{\"name\":null,\"type\":\"js\",\"url\":\"/assetserver/6abd48d41ff55cbb816dd18213c29492a550b0d0-plotly_webio.bundle.js\"}],\"type\":\"async_block\"})).then((imports) => handler.apply(this, imports));\n}\n"
        ],
        "observables": {
         "__gd_contents": {
          "id": "10294001292025998525",
          "sync": false,
          "value": {}
         },
         "__get_gd_contents": {
          "id": "10984283741765095207",
          "sync": false,
          "value": ""
         },
         "_commands": {
          "id": "11982077934408679815",
          "sync": false,
          "value": []
         },
         "_downloadImage": {
          "id": "16741878734785926438",
          "sync": false,
          "value": {}
         },
         "_toImage": {
          "id": "7091873375584088790",
          "sync": false,
          "value": {}
         },
         "click": {
          "id": "7807103956766211531",
          "sync": false,
          "value": {}
         },
         "hover": {
          "id": "17670459849401430015",
          "sync": false,
          "value": {}
         },
         "image": {
          "id": "4116643421092474080",
          "sync": true,
          "value": ""
         },
         "relayout": {
          "id": "1058739226617231177",
          "sync": false,
          "value": {}
         },
         "selected": {
          "id": "9061672880993917479",
          "sync": false,
          "value": {}
         }
        },
        "systemjs_options": null
       },
       "nodeType": "Scope",
       "props": {},
       "type": "node"
      },
      "image/png": "[encoded data removed]",
      "image/svg+xml": [
       "<svg class=\"main-svg\" xmlns=\"http://www.w3.org/2000/svg\" xmlns:xlink=\"http://www.w3.org/1999/xlink\" width=\"700\" height=\"500\" style=\"\" viewBox=\"0 0 700 500\"><rect x=\"0\" y=\"0\" width=\"700\" height=\"500\" style=\"fill: rgb(255, 255, 255); fill-opacity: 1;\"/><defs id=\"defs-7fa6f0\"><g class=\"clips\"><clipPath id=\"clip7fa6f0xyplot\" class=\"plotclip\"><rect width=\"512\" height=\"390\"/></clipPath><clipPath class=\"axesclip\" id=\"clip7fa6f0x\"><rect x=\"50\" y=\"0\" width=\"512\" height=\"500\"/></clipPath><clipPath class=\"axesclip\" id=\"clip7fa6f0y\"><rect x=\"0\" y=\"60\" width=\"700\" height=\"390\"/></clipPath><clipPath class=\"axesclip\" id=\"clip7fa6f0xy\"><rect x=\"50\" y=\"60\" width=\"512\" height=\"390\"/></clipPath></g><g class=\"gradients\"/></defs><g class=\"bglayer\"/><g class=\"layer-below\"><g class=\"imagelayer\"/><g class=\"shapelayer\"/></g><g class=\"cartesianlayer\"><g class=\"subplot xy\"><g class=\"layer-subplot\"><g class=\"shapelayer\"/><g class=\"imagelayer\"/></g><g class=\"gridlayer\"><g class=\"x\"/><g class=\"y\"/></g><g class=\"zerolinelayer\"><path class=\"yzl zl crisp\" transform=\"translate(0,441.82)\" d=\"M50,0h512\" style=\"stroke: rgb(68, 68, 68); stroke-opacity: 1; stroke-width: 1px;\"/></g><path class=\"xlines-below\"/><path class=\"ylines-below\"/><g class=\"overlines-below\"/><g class=\"xaxislayer-below\"/><g class=\"yaxislayer-below\"/><g class=\"overaxes-below\"/><g class=\"plot\" transform=\"translate(50,60)\" clip-path=\"url('#clip7fa6f0xyplot')\"><g class=\"scatterlayer mlayer\"><g class=\"trace scatter tracef3cb4b\" style=\"stroke-miterlimit: 2; opacity: 1;\"><g class=\"fills\"/><g class=\"errorbars\"/><g class=\"lines\"><path class=\"js-line\" d=\"M500.92,19.5L512,19.5\" style=\"vector-effect: non-scaling-stroke; fill: none; stroke: rgb(102, 186, 231); stroke-opacity: 1; stroke-width: 2px; opacity: 1;\"/></g><g class=\"points\"/><g class=\"text\"/></g><g class=\"trace scatter trace10aa55\" style=\"stroke-miterlimit: 2; opacity: 1;\"><g class=\"fills\"/><g class=\"errorbars\"/><g class=\"lines\"><path class=\"js-line\" d=\"M382.79,30.82L417.03,30.82\" style=\"vector-effect: non-scaling-stroke; fill: none; stroke: rgb(102, 186, 231); stroke-opacity: 1; stroke-width: 2px; opacity: 1;\"/></g><g class=\"points\"/><g class=\"text\"/></g><g class=\"trace scatter trace62dee1\" style=\"stroke-miterlimit: 2; opacity: 1;\"><g class=\"fills\"/><g class=\"errorbars\"/><g class=\"lines\"><path class=\"js-line\" d=\"M365.72,42.15L413.4,42.15\" style=\"vector-effect: non-scaling-stroke; fill: none; stroke: rgb(102, 186, 231); stroke-opacity: 1; stroke-width: 2px; opacity: 1;\"/></g><g class=\"points\"/><g class=\"text\"/></g><g class=\"trace scatter trace57b933\" style=\"stroke-miterlimit: 2; opacity: 1;\"><g class=\"fills\"/><g class=\"errorbars\"/><g class=\"lines\"><path class=\"js-line\" d=\"M341.15,53.47L422.02,53.47\" style=\"vector-effect: non-scaling-stroke; fill: none; stroke: rgb(102, 186, 231); stroke-opacity: 1; stroke-width: 2px; opacity: 1;\"/></g><g class=\"points\"/><g class=\"text\"/></g><g class=\"trace scatter trace8d4d5c\" style=\"stroke-miterlimit: 2; opacity: 1;\"><g class=\"fills\"/><g class=\"errorbars\"/><g class=\"lines\"><path class=\"js-line\" d=\"M326.46,64.79L357.9,64.79\" style=\"vector-effect: non-scaling-stroke; fill: none; stroke: rgb(102, 186, 231); stroke-opacity: 1; stroke-width: 2px; opacity: 1;\"/></g><g class=\"points\"/><g class=\"text\"/></g><g class=\"trace scatter trace0b2ad5\" style=\"stroke-miterlimit: 2; opacity: 1;\"><g class=\"fills\"/><g class=\"errorbars\"/><g class=\"lines\"><path class=\"js-line\" d=\"M323.52,76.11L367.16,76.11\" style=\"vector-effect: non-scaling-stroke; fill: none; stroke: rgb(102, 186, 231); stroke-opacity: 1; stroke-width: 2px; opacity: 1;\"/></g><g class=\"points\"/><g class=\"text\"/></g><g class=\"trace scatter trace55ebd8\" style=\"stroke-miterlimit: 2; opacity: 1;\"><g class=\"fills\"/><g class=\"errorbars\"/><g class=\"lines\"><path class=\"js-line\" d=\"M316.36,87.44L430.64,87.44\" style=\"vector-effect: non-scaling-stroke; fill: none; stroke: rgb(102, 186, 231); stroke-opacity: 1; stroke-width: 2px; opacity: 1;\"/></g><g class=\"points\"/><g class=\"text\"/></g><g class=\"trace scatter traceba6f2e\" style=\"stroke-miterlimit: 2; opacity: 1;\"><g class=\"fills\"/><g class=\"errorbars\"/><g class=\"lines\"><path class=\"js-line\" d=\"M310.14,98.76L311.41,98.76\" style=\"vector-effect: non-scaling-stroke; fill: none; stroke: rgb(102, 186, 231); stroke-opacity: 1; stroke-width: 2px; opacity: 1;\"/></g><g class=\"points\"/><g class=\"text\"/></g><g class=\"trace scatter trace6a7371\" style=\"stroke-miterlimit: 2; opacity: 1;\"><g class=\"fills\"/><g class=\"errorbars\"/><g class=\"lines\"><path class=\"js-line\" d=\"M282.58,110.08L294.86,110.08\" style=\"vector-effect: non-scaling-stroke; fill: none; stroke: rgb(102, 186, 231); stroke-opacity: 1; stroke-width: 2px; opacity: 1;\"/></g><g class=\"points\"/><g class=\"text\"/></g><g class=\"trace scatter trace6e6d0a\" style=\"stroke-miterlimit: 2; opacity: 1;\"><g class=\"fills\"/><g class=\"errorbars\"/><g class=\"lines\"><path class=\"js-line\" d=\"M255.07,121.4L304.23,121.4\" style=\"vector-effect: non-scaling-stroke; fill: none; stroke: rgb(102, 186, 231); stroke-opacity: 1; stroke-width: 2px; opacity: 1;\"/></g><g class=\"points\"/><g class=\"text\"/></g><g class=\"trace scatter tracec0c025\" style=\"stroke-miterlimit: 2; opacity: 1;\"><g class=\"fills\"/><g class=\"errorbars\"/><g class=\"lines\"><path class=\"js-line\" d=\"M219.8,132.73L269.21,132.73\" style=\"vector-effect: non-scaling-stroke; fill: none; stroke: rgb(102, 186, 231); stroke-opacity: 1; stroke-width: 2px; opacity: 1;\"/></g><g class=\"points\"/><g class=\"text\"/></g><g class=\"trace scatter trace1d628e\" style=\"stroke-miterlimit: 2; opacity: 1;\"><g class=\"fills\"/><g class=\"errorbars\"/><g class=\"lines\"><path class=\"js-line\" d=\"M215.85,144.05L232.87,144.05\" style=\"vector-effect: non-scaling-stroke; fill: none; stroke: rgb(102, 186, 231); stroke-opacity: 1; stroke-width: 2px; opacity: 1;\"/></g><g class=\"points\"/><g class=\"text\"/></g><g class=\"trace scatter trace7a047c\" style=\"stroke-miterlimit: 2; opacity: 1;\"><g class=\"fills\"/><g class=\"errorbars\"/><g class=\"lines\"><path class=\"js-line\" d=\"M123.23,155.37L138.07,155.37\" style=\"vector-effect: non-scaling-stroke; fill: none; stroke: rgb(102, 186, 231); stroke-opacity: 1; stroke-width: 2px; opacity: 1;\"/></g><g class=\"points\"/><g class=\"text\"/></g><g class=\"trace scatter trace2b5981\" style=\"stroke-miterlimit: 2; opacity: 1;\"><g class=\"fills\"/><g class=\"errorbars\"/><g class=\"lines\"><path class=\"js-line\" d=\"M118.98,166.69L123.78,166.69\" style=\"vector-effect: non-scaling-stroke; fill: none; stroke: rgb(102, 186, 231); stroke-opacity: 1; stroke-width: 2px; opacity: 1;\"/></g><g class=\"points\"/><g class=\"text\"/></g><g class=\"trace scatter traced7467f\" style=\"stroke-miterlimit: 2; opacity: 1;\"><g class=\"fills\"/><g class=\"errorbars\"/><g class=\"lines\"><path class=\"js-line\" d=\"M114.41,178.02L143.55,178.02\" style=\"vector-effect: non-scaling-stroke; fill: none; stroke: rgb(102, 186, 231); stroke-opacity: 1; stroke-width: 2px; opacity: 1;\"/></g><g class=\"points\"/><g class=\"text\"/></g><g class=\"trace scatter trace6ba53c\" style=\"stroke-miterlimit: 2; opacity: 1;\"><g class=\"fills\"/><g class=\"errorbars\"/><g class=\"lines\"><path class=\"js-line\" d=\"M106.52,189.34L117.97,189.34\" style=\"vector-effect: non-scaling-stroke; fill: none; stroke: rgb(102, 186, 231); stroke-opacity: 1; stroke-width: 2px; opacity: 1;\"/></g><g class=\"points\"/><g class=\"text\"/></g><g class=\"trace scatter trace0fb400\" style=\"stroke-miterlimit: 2; opacity: 1;\"><g class=\"fills\"/><g class=\"errorbars\"/><g class=\"lines\"><path class=\"js-line\" d=\"M104.2,200.66L318.81,200.66\" style=\"vector-effect: non-scaling-stroke; fill: none; stroke: rgb(102, 186, 231); stroke-opacity: 1; stroke-width: 2px; opacity: 1;\"/></g><g class=\"points\"/><g class=\"text\"/></g><g class=\"trace scatter trace79b66b\" style=\"stroke-miterlimit: 2; opacity: 1;\"><g class=\"fills\"/><g class=\"errorbars\"/><g class=\"lines\"><path class=\"js-line\" d=\"M95.52,211.98L111.61,211.98\" style=\"vector-effect: non-scaling-stroke; fill: none; stroke: rgb(102, 186, 231); stroke-opacity: 1; stroke-width: 2px; opacity: 1;\"/></g><g class=\"points\"/><g class=\"text\"/></g><g class=\"trace scatter trace529893\" style=\"stroke-miterlimit: 2; opacity: 1;\"><g class=\"fills\"/><g class=\"errorbars\"/><g class=\"lines\"><path class=\"js-line\" d=\"M93.8,223.31L124.82,223.31\" style=\"vector-effect: non-scaling-stroke; fill: none; stroke: rgb(102, 186, 231); stroke-opacity: 1; stroke-width: 2px; opacity: 1;\"/></g><g class=\"points\"/><g class=\"text\"/></g><g class=\"trace scatter traceb74167\" style=\"stroke-miterlimit: 2; opacity: 1;\"><g class=\"fills\"/><g class=\"errorbars\"/><g class=\"lines\"><path class=\"js-line\" d=\"M92.48,234.63L98.09,234.63\" style=\"vector-effect: non-scaling-stroke; fill: none; stroke: rgb(102, 186, 231); stroke-opacity: 1; stroke-width: 2px; opacity: 1;\"/></g><g class=\"points\"/><g class=\"text\"/></g><g class=\"trace scatter traceaef254\" style=\"stroke-miterlimit: 2; opacity: 1;\"><g class=\"fills\"/><g class=\"errorbars\"/><g class=\"lines\"><path class=\"js-line\" d=\"M82.53,245.95L111.17,245.95\" style=\"vector-effect: non-scaling-stroke; fill: none; stroke: rgb(102, 186, 231); stroke-opacity: 1; stroke-width: 2px; opacity: 1;\"/></g><g class=\"points\"/><g class=\"text\"/></g><g class=\"trace scatter trace52cac1\" style=\"stroke-miterlimit: 2; opacity: 1;\"><g class=\"fills\"/><g class=\"errorbars\"/><g class=\"lines\"><path class=\"js-line\" d=\"M70.19,257.27L75.87,257.27\" style=\"vector-effect: non-scaling-stroke; fill: none; stroke: rgb(102, 186, 231); stroke-opacity: 1; stroke-width: 2px; opacity: 1;\"/></g><g class=\"points\"/><g class=\"text\"/></g><g class=\"trace scatter traced13c12\" style=\"stroke-miterlimit: 2; opacity: 1;\"><g class=\"fills\"/><g class=\"errorbars\"/><g class=\"lines\"><path class=\"js-line\" d=\"M67.21,268.6L85.07,268.6\" style=\"vector-effect: non-scaling-stroke; fill: none; stroke: rgb(102, 186, 231); stroke-opacity: 1; stroke-width: 2px; opacity: 1;\"/></g><g class=\"points\"/><g class=\"text\"/></g><g class=\"trace scatter trace61d795\" style=\"stroke-miterlimit: 2; opacity: 1;\"><g class=\"fills\"/><g class=\"errorbars\"/><g class=\"lines\"><path class=\"js-line\" d=\"M54.74,279.92L57.95,279.92\" style=\"vector-effect: non-scaling-stroke; fill: none; stroke: rgb(102, 186, 231); stroke-opacity: 1; stroke-width: 2px; opacity: 1;\"/></g><g class=\"points\"/><g class=\"text\"/></g><g class=\"trace scatter trace5745d9\" style=\"stroke-miterlimit: 2; opacity: 1;\"><g class=\"fills\"/><g class=\"errorbars\"/><g class=\"lines\"><path class=\"js-line\" d=\"M54.73,291.24L66.69,291.24\" style=\"vector-effect: non-scaling-stroke; fill: none; stroke: rgb(102, 186, 231); stroke-opacity: 1; stroke-width: 2px; opacity: 1;\"/></g><g class=\"points\"/><g class=\"text\"/></g><g class=\"trace scatter traceeff743\" style=\"stroke-miterlimit: 2; opacity: 1;\"><g class=\"fills\"/><g class=\"errorbars\"/><g class=\"lines\"><path class=\"js-line\" d=\"M47.17,302.56L47.56,302.56\" style=\"vector-effect: non-scaling-stroke; fill: none; stroke: rgb(102, 186, 231); stroke-opacity: 1; stroke-width: 2px; opacity: 1;\"/></g><g class=\"points\"/><g class=\"text\"/></g><g class=\"trace scatter trace196bc1\" style=\"stroke-miterlimit: 2; opacity: 1;\"><g class=\"fills\"/><g class=\"errorbars\"/><g class=\"lines\"><path class=\"js-line\" d=\"M26.92,313.89L87.78,313.89\" style=\"vector-effect: non-scaling-stroke; fill: none; stroke: rgb(102, 186, 231); stroke-opacity: 1; stroke-width: 2px; opacity: 1;\"/></g><g class=\"points\"/><g class=\"text\"/></g><g class=\"trace scatter trace7c9b36\" style=\"stroke-miterlimit: 2; opacity: 1;\"><g class=\"fills\"/><g class=\"errorbars\"/><g class=\"lines\"><path class=\"js-line\" d=\"M21.01,325.21L67.05,325.21\" style=\"vector-effect: non-scaling-stroke; fill: none; stroke: rgb(102, 186, 231); stroke-opacity: 1; stroke-width: 2px; opacity: 1;\"/></g><g class=\"points\"/><g class=\"text\"/></g><g class=\"trace scatter trace6b601e\" style=\"stroke-miterlimit: 2; opacity: 1;\"><g class=\"fills\"/><g class=\"errorbars\"/><g class=\"lines\"><path class=\"js-line\" d=\"M19.36,336.53L101.45,336.53\" style=\"vector-effect: non-scaling-stroke; fill: none; stroke: rgb(102, 186, 231); stroke-opacity: 1; stroke-width: 2px; opacity: 1;\"/></g><g class=\"points\"/><g class=\"text\"/></g><g class=\"trace scatter trace3c2b62\" style=\"stroke-miterlimit: 2; opacity: 1;\"><g class=\"fills\"/><g class=\"errorbars\"/><g class=\"lines\"><path class=\"js-line\" d=\"M7.72,347.85L9.93,347.85\" style=\"vector-effect: non-scaling-stroke; fill: none; stroke: rgb(102, 186, 231); stroke-opacity: 1; stroke-width: 2px; opacity: 1;\"/></g><g class=\"points\"/><g class=\"text\"/></g><g class=\"trace scatter trace890b28\" style=\"stroke-miterlimit: 2; opacity: 1;\"><g class=\"fills\"/><g class=\"errorbars\"/><g class=\"lines\"><path class=\"js-line\" d=\"M0.42,359.18L47.87,359.18\" style=\"vector-effect: non-scaling-stroke; fill: none; stroke: rgb(102, 186, 231); stroke-opacity: 1; stroke-width: 2px; opacity: 1;\"/></g><g class=\"points\"/><g class=\"text\"/></g><g class=\"trace scatter trace464db4\" style=\"stroke-miterlimit: 2; opacity: 1;\"><g class=\"fills\"/><g class=\"errorbars\"/><g class=\"lines\"><path class=\"js-line\" d=\"M0,370.5L27.58,370.5\" style=\"vector-effect: non-scaling-stroke; fill: none; stroke: rgb(102, 186, 231); stroke-opacity: 1; stroke-width: 2px; opacity: 1;\"/></g><g class=\"points\"/><g class=\"text\"/></g></g></g><g class=\"overplot\"/><path class=\"xlines-above crisp\" d=\"M0,0\" style=\"fill: none;\"/><path class=\"ylines-above crisp\" d=\"M0,0\" style=\"fill: none;\"/><g class=\"overlines-above\"/><g class=\"xaxislayer-above\"><g class=\"xtick\"><text text-anchor=\"middle\" x=\"0\" y=\"463\" transform=\"translate(62.33,0)\" style=\"font-family: 'Open Sans', verdana, arial, sans-serif; font-size: 12px; fill: rgb(68, 68, 68); fill-opacity: 1; white-space: pre;\">0.4</text></g><g class=\"xtick\"><text text-anchor=\"middle\" x=\"0\" y=\"463\" transform=\"translate(135.45999999999998,0)\" style=\"font-family: 'Open Sans', verdana, arial, sans-serif; font-size: 12px; fill: rgb(68, 68, 68); fill-opacity: 1; white-space: pre;\">0.45</text></g><g class=\"xtick\"><text text-anchor=\"middle\" x=\"0\" y=\"463\" transform=\"translate(208.58,0)\" style=\"font-family: 'Open Sans', verdana, arial, sans-serif; font-size: 12px; fill: rgb(68, 68, 68); fill-opacity: 1; white-space: pre;\">0.5</text></g><g class=\"xtick\"><text text-anchor=\"middle\" x=\"0\" y=\"463\" transform=\"translate(281.71000000000004,0)\" style=\"font-family: 'Open Sans', verdana, arial, sans-serif; font-size: 12px; fill: rgb(68, 68, 68); fill-opacity: 1; white-space: pre;\">0.55</text></g><g class=\"xtick\"><text text-anchor=\"middle\" x=\"0\" y=\"463\" transform=\"translate(354.83,0)\" style=\"font-family: 'Open Sans', verdana, arial, sans-serif; font-size: 12px; fill: rgb(68, 68, 68); fill-opacity: 1; white-space: pre;\">0.6</text></g><g class=\"xtick\"><text text-anchor=\"middle\" x=\"0\" y=\"463\" transform=\"translate(427.96,0)\" style=\"font-family: 'Open Sans', verdana, arial, sans-serif; font-size: 12px; fill: rgb(68, 68, 68); fill-opacity: 1; white-space: pre;\">0.65</text></g><g class=\"xtick\"><text text-anchor=\"middle\" x=\"0\" y=\"463\" transform=\"translate(501.08,0)\" style=\"font-family: 'Open Sans', verdana, arial, sans-serif; font-size: 12px; fill: rgb(68, 68, 68); fill-opacity: 1; white-space: pre;\">0.7</text></g></g><g class=\"yaxislayer-above\"><g class=\"ytick\"><text text-anchor=\"end\" x=\"49\" y=\"4.199999999999999\" transform=\"translate(0,441.82)\" style=\"font-family: 'Open Sans', verdana, arial, sans-serif; font-size: 12px; fill: rgb(68, 68, 68); fill-opacity: 1; white-space: pre;\">0</text></g><g class=\"ytick\"><text text-anchor=\"end\" x=\"49\" y=\"4.199999999999999\" transform=\"translate(0,385.21)\" style=\"font-family: 'Open Sans', verdana, arial, sans-serif; font-size: 12px; fill: rgb(68, 68, 68); fill-opacity: 1; white-space: pre;\">5</text></g><g class=\"ytick\"><text text-anchor=\"end\" x=\"49\" y=\"4.199999999999999\" transform=\"translate(0,328.6)\" style=\"font-family: 'Open Sans', verdana, arial, sans-serif; font-size: 12px; fill: rgb(68, 68, 68); fill-opacity: 1; white-space: pre;\">10</text></g><g class=\"ytick\"><text text-anchor=\"end\" x=\"49\" y=\"4.199999999999999\" transform=\"translate(0,271.98)\" style=\"font-family: 'Open Sans', verdana, arial, sans-serif; font-size: 12px; fill: rgb(68, 68, 68); fill-opacity: 1; white-space: pre;\">15</text></g><g class=\"ytick\"><text text-anchor=\"end\" x=\"49\" y=\"4.199999999999999\" transform=\"translate(0,215.37)\" style=\"font-family: 'Open Sans', verdana, arial, sans-serif; font-size: 12px; fill: rgb(68, 68, 68); fill-opacity: 1; white-space: pre;\">20</text></g><g class=\"ytick\"><text text-anchor=\"end\" x=\"49\" y=\"4.199999999999999\" transform=\"translate(0,158.76)\" style=\"font-family: 'Open Sans', verdana, arial, sans-serif; font-size: 12px; fill: rgb(68, 68, 68); fill-opacity: 1; white-space: pre;\">25</text></g><g class=\"ytick\"><text text-anchor=\"end\" x=\"49\" y=\"4.199999999999999\" transform=\"translate(0,102.15)\" style=\"font-family: 'Open Sans', verdana, arial, sans-serif; font-size: 12px; fill: rgb(68, 68, 68); fill-opacity: 1; white-space: pre;\">30</text></g></g><g class=\"overaxes-above\"/></g></g><g class=\"polarlayer\"/><g class=\"ternarylayer\"/><g class=\"geolayer\"/><g class=\"funnelarealayer\"/><g class=\"pielayer\"/><g class=\"treemaplayer\"/><g class=\"sunburstlayer\"/><g class=\"glimages\"/><defs id=\"topdefs-7fa6f0\"><g class=\"clips\"/><clipPath id=\"legend7fa6f0\"><rect width=\"116\" height=\"29\" x=\"0\" y=\"0\"/></clipPath></defs><g class=\"layer-above\"><g class=\"imagelayer\"/><g class=\"shapelayer\"/></g><g class=\"infolayer\"><g class=\"legend\" pointer-events=\"all\" transform=\"translate(572.24,60)\"><rect class=\"bg\" shape-rendering=\"crispEdges\" style=\"stroke: rgb(68, 68, 68); stroke-opacity: 1; fill: rgb(255, 255, 255); fill-opacity: 1; stroke-width: 0px;\" width=\"116\" height=\"29\" x=\"0\" y=\"0\"/><g class=\"scrollbox\" transform=\"\" clip-path=\"url('#legend7fa6f0')\"><g class=\"groups\"><g class=\"traces\" transform=\"translate(0,14.5)\" style=\"opacity: 1;\"><text class=\"legendtext\" text-anchor=\"start\" x=\"40\" y=\"4.680000000000001\" style=\"font-family: 'Open Sans', verdana, arial, sans-serif; font-size: 12px; fill: rgb(68, 68, 68); fill-opacity: 1; white-space: pre;\">Dimension 1</text><g class=\"layers\" style=\"opacity: 1;\"><g class=\"legendfill\"/><g class=\"legendlines\"><path class=\"js-line\" d=\"M5,0h30\" style=\"fill: none; stroke: rgb(102, 186, 231); stroke-opacity: 1; stroke-width: 2px;\"/></g><g class=\"legendsymbols\"><g class=\"legendpoints\"/></g></g><rect class=\"legendtoggle\" x=\"0\" y=\"-9.5\" width=\"110.40625\" height=\"19\" style=\"fill: rgb(0, 0, 0); fill-opacity: 0;\"/></g></g></g><rect class=\"scrollbar\" rx=\"20\" ry=\"3\" width=\"0\" height=\"0\" style=\"fill: rgb(128, 139, 164); fill-opacity: 1;\" x=\"0\" y=\"0\"/></g><g class=\"g-gtitle\"/><g class=\"g-xtitle\" transform=\"translate(0,-6)\"><text class=\"xtitle\" x=\"306\" y=\"502\" text-anchor=\"middle\" style=\"font-family: 'Open Sans', verdana, arial, sans-serif; font-size: 14px; fill: rgb(68, 68, 68); opacity: 1; font-weight: normal; white-space: pre;\">ϵ</text></g><g class=\"g-ytitle\"/></g></svg>"
      ],
      "text/html": [
       "<div\n",
       "    class=\"webio-mountpoint\"\n",
       "    data-webio-mountpoint=\"5207592802034867252\"\n",
       ">\n",
       "    <script>\n",
       "    if (window.require && require.defined && require.defined(\"nbextensions/webio-jupyter-notebook\")) {\n",
       "        console.log(\"Jupyter WebIO extension detected, not mounting.\");\n",
       "    } else if (window.WebIO) {\n",
       "        WebIO.mount(\n",
       "            document.querySelector('[data-webio-mountpoint=\"5207592802034867252\"]'),\n",
       "            {\"props\":{},\"nodeType\":\"Scope\",\"type\":\"node\",\"instanceArgs\":{\"imports\":{\"data\":[{\"name\":\"Plotly\",\"type\":\"js\",\"url\":\"\\/assetserver\\/b3a562c629e4214a506d0182e45e3c09deead92f-plotly-latest.min.js\"},{\"name\":null,\"type\":\"js\",\"url\":\"\\/assetserver\\/6abd48d41ff55cbb816dd18213c29492a550b0d0-plotly_webio.bundle.js\"}],\"type\":\"async_block\"},\"id\":\"2045491438411123866\",\"handlers\":{\"_toImage\":[\"(function (options){return this.Plotly.toImage(this.plotElem,options).then((function (data){return WebIO.setval({\\\"name\\\":\\\"image\\\",\\\"scope\\\":\\\"2045491438411123866\\\",\\\"id\\\":\\\"4116643421092474080\\\",\\\"type\\\":\\\"observable\\\"},data)}))})\"],\"__get_gd_contents\":[\"(function (prop){prop==\\\"data\\\" ? (WebIO.setval({\\\"name\\\":\\\"__gd_contents\\\",\\\"scope\\\":\\\"2045491438411123866\\\",\\\"id\\\":\\\"10294001292025998525\\\",\\\"type\\\":\\\"observable\\\"},this.plotElem.data)) : undefined; return prop==\\\"layout\\\" ? (WebIO.setval({\\\"name\\\":\\\"__gd_contents\\\",\\\"scope\\\":\\\"2045491438411123866\\\",\\\"id\\\":\\\"10294001292025998525\\\",\\\"type\\\":\\\"observable\\\"},this.plotElem.layout)) : undefined})\"],\"_downloadImage\":[\"(function (options){return this.Plotly.downloadImage(this.plotElem,options)})\"],\"_commands\":[\"(function (args){var fn=args.shift(); var elem=this.plotElem; var Plotly=this.Plotly; args.unshift(elem); return Plotly[fn].apply(this,args)})\"]},\"systemjs_options\":null,\"mount_callbacks\":[\"function () {\\n    var handler = ((function (Plotly,PlotlyWebIO){PlotlyWebIO.init(WebIO); var gd=this.dom.querySelector(\\\"#plot-b6e90180-d31f-4429-bea7-ecdd314717ce\\\"); this.plotElem=gd; this.Plotly=Plotly; (window.Blink!==undefined) ? (gd.style.width=\\\"100%\\\", gd.style.height=\\\"100vh\\\", gd.style.marginLeft=\\\"0%\\\", gd.style.marginTop=\\\"0vh\\\") : undefined; window.onresize=(function (){return Plotly.Plots.resize(gd)}); Plotly.newPlot(gd,[{\\\"showlegend\\\":false,\\\"mode\\\":\\\"lines\\\",\\\"line\\\":{\\\"color\\\":\\\"#66BAE7\\\",\\\"width\\\":2},\\\"y\\\":[32,32],\\\"type\\\":\\\"scatter\\\",\\\"x\\\":[0.7340723448214262,0.7416515337803564]},{\\\"showlegend\\\":false,\\\"mode\\\":\\\"lines\\\",\\\"line\\\":{\\\"color\\\":\\\"#66BAE7\\\",\\\"width\\\":2},\\\"y\\\":[31,31],\\\"type\\\":\\\"scatter\\\",\\\"x\\\":[0.6533062098352262,0.6767180199830277]},{\\\"showlegend\\\":false,\\\"mode\\\":\\\"lines\\\",\\\"line\\\":{\\\"color\\\":\\\"#66BAE7\\\",\\\"width\\\":2},\\\"y\\\":[30,30],\\\"type\\\":\\\"scatter\\\",\\\"x\\\":[0.6416325421591662,0.6742355421900007]},{\\\"showlegend\\\":false,\\\"mode\\\":\\\"lines\\\",\\\"line\\\":{\\\"color\\\":\\\"#66BAE7\\\",\\\"width\\\":2},\\\"y\\\":[29,29],\\\"type\\\":\\\"scatter\\\",\\\"x\\\":[0.6248311566761308,0.6801279003681643]},{\\\"showlegend\\\":false,\\\"mode\\\":\\\"lines\\\",\\\"line\\\":{\\\"color\\\":\\\"#66BAE7\\\",\\\"width\\\":2},\\\"y\\\":[28,28],\\\"type\\\":\\\"scatter\\\",\\\"x\\\":[0.6147883563912693,0.6362837112095501]},{\\\"showlegend\\\":false,\\\"mode\\\":\\\"lines\\\",\\\"line\\\":{\\\"color\\\":\\\"#66BAE7\\\",\\\"width\\\":2},\\\"y\\\":[27,27],\\\"type\\\":\\\"scatter\\\",\\\"x\\\":[0.6127802680971863,0.6426137298094923]},{\\\"showlegend\\\":false,\\\"mode\\\":\\\"lines\\\",\\\"line\\\":{\\\"color\\\":\\\"#66BAE7\\\",\\\"width\\\":2},\\\"y\\\":[26,26],\\\"type\\\":\\\"scatter\\\",\\\"x\\\":[0.6078826025089031,0.6860236439498764]},{\\\"showlegend\\\":false,\\\"mode\\\":\\\"lines\\\",\\\"line\\\":{\\\"color\\\":\\\"#66BAE7\\\",\\\"width\\\":2},\\\"y\\\":[25,25],\\\"type\\\":\\\"scatter\\\",\\\"x\\\":[0.6036254515898798,0.6044973873857651]},{\\\"showlegend\\\":false,\\\"mode\\\":\\\"lines\\\",\\\"line\\\":{\\\"color\\\":\\\"#66BAE7\\\",\\\"width\\\":2},\\\"y\\\":[24,24],\\\"type\\\":\\\"scatter\\\",\\\"x\\\":[0.5847813473167014,0.5931794422551812]},{\\\"showlegend\\\":false,\\\"mode\\\":\\\"lines\\\",\\\"line\\\":{\\\"color\\\":\\\"#66BAE7\\\",\\\"width\\\":2},\\\"y\\\":[23,23],\\\"type\\\":\\\"scatter\\\",\\\"x\\\":[0.5659716721599862,0.5995851868995055]},{\\\"showlegend\\\":false,\\\"mode\\\":\\\"lines\\\",\\\"line\\\":{\\\"color\\\":\\\"#66BAE7\\\",\\\"width\\\":2},\\\"y\\\":[22,22],\\\"type\\\":\\\"scatter\\\",\\\"x\\\":[0.5418560337627542,0.575642079574036]},{\\\"showlegend\\\":false,\\\"mode\\\":\\\"lines\\\",\\\"line\\\":{\\\"color\\\":\\\"#66BAE7\\\",\\\"width\\\":2},\\\"y\\\":[21,21],\\\"type\\\":\\\"scatter\\\",\\\"x\\\":[0.5391536804868015,0.5507912304244713]},{\\\"showlegend\\\":false,\\\"mode\\\":\\\"lines\\\",\\\"line\\\":{\\\"color\\\":\\\"#66BAE7\\\",\\\"width\\\":2},\\\"y\\\":[20,20],\\\"type\\\":\\\"scatter\\\",\\\"x\\\":[0.4758281720477544,0.4859773195174419]},{\\\"showlegend\\\":false,\\\"mode\\\":\\\"lines\\\",\\\"line\\\":{\\\"color\\\":\\\"#66BAE7\\\",\\\"width\\\":2},\\\"y\\\":[19,19],\\\"type\\\":\\\"scatter\\\",\\\"x\\\":[0.47292243122327576,0.4762004380182375]},{\\\"showlegend\\\":false,\\\"mode\\\":\\\"lines\\\",\\\"line\\\":{\\\"color\\\":\\\"#66BAE7\\\",\\\"width\\\":2},\\\"y\\\":[18,18],\\\"type\\\":\\\"scatter\\\",\\\"x\\\":[0.4697969355476122,0.48972355170329623]},{\\\"showlegend\\\":false,\\\"mode\\\":\\\"lines\\\",\\\"line\\\":{\\\"color\\\":\\\"#66BAE7\\\",\\\"width\\\":2},\\\"y\\\":[17,17],\\\"type\\\":\\\"scatter\\\",\\\"x\\\":[0.46440415408300983,0.47222813406121816]},{\\\"showlegend\\\":false,\\\"mode\\\":\\\"lines\\\",\\\"line\\\":{\\\"color\\\":\\\"#66BAE7\\\",\\\"width\\\":2},\\\"y\\\":[16,16],\\\"type\\\":\\\"scatter\\\",\\\"x\\\":[0.46281290247732626,0.6095547658054494]},{\\\"showlegend\\\":false,\\\"mode\\\":\\\"lines\\\",\\\"line\\\":{\\\"color\\\":\\\"#66BAE7\\\",\\\"width\\\":2},\\\"y\\\":[15,15],\\\"type\\\":\\\"scatter\\\",\\\"x\\\":[0.45687838963134514,0.46788115371196404]},{\\\"showlegend\\\":false,\\\"mode\\\":\\\"lines\\\",\\\"line\\\":{\\\"color\\\":\\\"#66BAE7\\\",\\\"width\\\":2},\\\"y\\\":[14,14],\\\"type\\\":\\\"scatter\\\",\\\"x\\\":[0.45570515943026135,0.4769175270130065]},{\\\"showlegend\\\":false,\\\"mode\\\":\\\"lines\\\",\\\"line\\\":{\\\"color\\\":\\\"#66BAE7\\\",\\\"width\\\":2},\\\"y\\\":[13,13],\\\"type\\\":\\\"scatter\\\",\\\"x\\\":[0.4547985712387913,0.4586349431012176]},{\\\"showlegend\\\":false,\\\"mode\\\":\\\"lines\\\",\\\"line\\\":{\\\"color\\\":\\\"#66BAE7\\\",\\\"width\\\":2},\\\"y\\\":[12,12],\\\"type\\\":\\\"scatter\\\",\\\"x\\\":[0.44799976886800885,0.46758187526867645]},{\\\"showlegend\\\":false,\\\"mode\\\":\\\"lines\\\",\\\"line\\\":{\\\"color\\\":\\\"#66BAE7\\\",\\\"width\\\":2},\\\"y\\\":[11,11],\\\"type\\\":\\\"scatter\\\",\\\"x\\\":[0.4395621783773746,0.44344588326645296]},{\\\"showlegend\\\":false,\\\"mode\\\":\\\"lines\\\",\\\"line\\\":{\\\"color\\\":\\\"#66BAE7\\\",\\\"width\\\":2},\\\"y\\\":[10,10],\\\"type\\\":\\\"scatter\\\",\\\"x\\\":[0.43752157296078603,0.4497328129753096]},{\\\"showlegend\\\":false,\\\"mode\\\":\\\"lines\\\",\\\"line\\\":{\\\"color\\\":\\\"#66BAE7\\\",\\\"width\\\":2},\\\"y\\\":[9,9],\\\"type\\\":\\\"scatter\\\",\\\"x\\\":[0.4289964854104258,0.43119459399000254]},{\\\"showlegend\\\":false,\\\"mode\\\":\\\"lines\\\",\\\"line\\\":{\\\"color\\\":\\\"#66BAE7\\\",\\\"width\\\":2},\\\"y\\\":[8,8],\\\"type\\\":\\\"scatter\\\",\\\"x\\\":[0.42898773881616936,0.4371657638898499]},{\\\"showlegend\\\":false,\\\"mode\\\":\\\"lines\\\",\\\"line\\\":{\\\"color\\\":\\\"#66BAE7\\\",\\\"width\\\":2},\\\"y\\\":[7,7],\\\"type\\\":\\\"scatter\\\",\\\"x\\\":[0.42382053877281795,0.42408500047917497]},{\\\"showlegend\\\":false,\\\"mode\\\":\\\"lines\\\",\\\"line\\\":{\\\"color\\\":\\\"#66BAE7\\\",\\\"width\\\":2},\\\"y\\\":[6,6],\\\"type\\\":\\\"scatter\\\",\\\"x\\\":[0.40997220217942276,0.45159124893154856]},{\\\"showlegend\\\":false,\\\"mode\\\":\\\"lines\\\",\\\"line\\\":{\\\"color\\\":\\\"#66BAE7\\\",\\\"width\\\":2},\\\"y\\\":[5,5],\\\"type\\\":\\\"scatter\\\",\\\"x\\\":[0.4059324568822074,0.43741141316464693]},{\\\"showlegend\\\":false,\\\"mode\\\":\\\"lines\\\",\\\"line\\\":{\\\"color\\\":\\\"#66BAE7\\\",\\\"width\\\":2},\\\"y\\\":[4,4],\\\"type\\\":\\\"scatter\\\",\\\"x\\\":[0.40480593459937314,0.4609353088100449]},{\\\"showlegend\\\":false,\\\"mode\\\":\\\"lines\\\",\\\"line\\\":{\\\"color\\\":\\\"#66BAE7\\\",\\\"width\\\":2},\\\"y\\\":[3,3],\\\"type\\\":\\\"scatter\\\",\\\"x\\\":[0.3968440945284858,0.3983574517149339]},{\\\"showlegend\\\":false,\\\"mode\\\":\\\"lines\\\",\\\"line\\\":{\\\"color\\\":\\\"#66BAE7\\\",\\\"width\\\":2},\\\"y\\\":[2,2],\\\"type\\\":\\\"scatter\\\",\\\"x\\\":[0.39185828445714255,0.4242977871196399]},{\\\"mode\\\":\\\"lines\\\",\\\"line\\\":{\\\"color\\\":\\\"#66BAE7\\\",\\\"width\\\":2},\\\"y\\\":[1,1],\\\"type\\\":\\\"scatter\\\",\\\"name\\\":\\\"Dimension 1\\\",\\\"x\\\":[0.3915679613833261,0.4104226774747992]}],{\\\"xaxis\\\":{\\\"showgrid\\\":false,\\\"zeroline\\\":false,\\\"rangevar\\\":[-0.001,0.7426515337803564],\\\"title\\\":\\\"ϵ\\\"},\\\"margin\\\":{\\\"l\\\":50,\\\"b\\\":50,\\\"r\\\":50,\\\"t\\\":60},\\\"yaxis\\\":{\\\"showgrid\\\":false,\\\"rangevar\\\":[0.0,32.1],\\\"ticks\\\":false}},{}); gd.on(\\\"plotly_hover\\\",(function (data){var filtered_data=WebIO.PlotlyCommands.filterEventData(gd,data,\\\"hover\\\"); return !(filtered_data.isnil) ? (WebIO.setval({\\\"name\\\":\\\"hover\\\",\\\"scope\\\":\\\"2045491438411123866\\\",\\\"id\\\":\\\"17670459849401430015\\\",\\\"type\\\":\\\"observable\\\"},filtered_data.out)) : undefined})); gd.on(\\\"plotly_unhover\\\",(function (){return WebIO.setval({\\\"name\\\":\\\"hover\\\",\\\"scope\\\":\\\"2045491438411123866\\\",\\\"id\\\":\\\"17670459849401430015\\\",\\\"type\\\":\\\"observable\\\"},{})})); gd.on(\\\"plotly_selected\\\",(function (data){var filtered_data=WebIO.PlotlyCommands.filterEventData(gd,data,\\\"selected\\\"); return !(filtered_data.isnil) ? (WebIO.setval({\\\"name\\\":\\\"selected\\\",\\\"scope\\\":\\\"2045491438411123866\\\",\\\"id\\\":\\\"9061672880993917479\\\",\\\"type\\\":\\\"observable\\\"},filtered_data.out)) : undefined})); gd.on(\\\"plotly_deselect\\\",(function (){return WebIO.setval({\\\"name\\\":\\\"selected\\\",\\\"scope\\\":\\\"2045491438411123866\\\",\\\"id\\\":\\\"9061672880993917479\\\",\\\"type\\\":\\\"observable\\\"},{})})); gd.on(\\\"plotly_relayout\\\",(function (data){var filtered_data=WebIO.PlotlyCommands.filterEventData(gd,data,\\\"relayout\\\"); return !(filtered_data.isnil) ? (WebIO.setval({\\\"name\\\":\\\"relayout\\\",\\\"scope\\\":\\\"2045491438411123866\\\",\\\"id\\\":\\\"1058739226617231177\\\",\\\"type\\\":\\\"observable\\\"},filtered_data.out)) : undefined})); return gd.on(\\\"plotly_click\\\",(function (data){var filtered_data=WebIO.PlotlyCommands.filterEventData(gd,data,\\\"click\\\"); return !(filtered_data.isnil) ? (WebIO.setval({\\\"name\\\":\\\"click\\\",\\\"scope\\\":\\\"2045491438411123866\\\",\\\"id\\\":\\\"7807103956766211531\\\",\\\"type\\\":\\\"observable\\\"},filtered_data.out)) : undefined}))}));\\n    (WebIO.importBlock({\\\"data\\\":[{\\\"name\\\":\\\"Plotly\\\",\\\"type\\\":\\\"js\\\",\\\"url\\\":\\\"\\/assetserver\\/b3a562c629e4214a506d0182e45e3c09deead92f-plotly-latest.min.js\\\"},{\\\"name\\\":null,\\\"type\\\":\\\"js\\\",\\\"url\\\":\\\"\\/assetserver\\/6abd48d41ff55cbb816dd18213c29492a550b0d0-plotly_webio.bundle.js\\\"}],\\\"type\\\":\\\"async_block\\\"})).then((imports) => handler.apply(this, imports));\\n}\\n\"],\"observables\":{\"_toImage\":{\"sync\":false,\"id\":\"7091873375584088790\",\"value\":{}},\"hover\":{\"sync\":false,\"id\":\"17670459849401430015\",\"value\":{}},\"selected\":{\"sync\":false,\"id\":\"9061672880993917479\",\"value\":{}},\"__gd_contents\":{\"sync\":false,\"id\":\"10294001292025998525\",\"value\":{}},\"click\":{\"sync\":false,\"id\":\"7807103956766211531\",\"value\":{}},\"image\":{\"sync\":true,\"id\":\"4116643421092474080\",\"value\":\"\"},\"__get_gd_contents\":{\"sync\":false,\"id\":\"10984283741765095207\",\"value\":\"\"},\"_downloadImage\":{\"sync\":false,\"id\":\"16741878734785926438\",\"value\":{}},\"relayout\":{\"sync\":false,\"id\":\"1058739226617231177\",\"value\":{}},\"_commands\":{\"sync\":false,\"id\":\"11982077934408679815\",\"value\":[]}}},\"children\":[{\"props\":{\"id\":\"plot-b6e90180-d31f-4429-bea7-ecdd314717ce\"},\"nodeType\":\"DOM\",\"type\":\"node\",\"instanceArgs\":{\"namespace\":\"html\",\"tag\":\"div\"},\"children\":[]}]},\n",
       "            window,\n",
       "        );\n",
       "    } else {\n",
       "        document\n",
       "            .querySelector('[data-webio-mountpoint=\"5207592802034867252\"]')\n",
       "            .innerHTML = (\n",
       "                '<div style=\"padding: 1em; background-color: #f8d6da; border: 1px solid #f5c6cb\">' +\n",
       "                '<p><strong>WebIO not detected.</strong></p>' +\n",
       "                '<p>Please read ' +\n",
       "                '<a href=\"https://juliagizmos.github.io/WebIO.jl/latest/troubleshooting/not-detected/\" target=\"_blank\">the troubleshooting guide</a> ' +\n",
       "                'for more information on how to resolve this issue.</p>' +\n",
       "                '<p><a href=\"https://juliagizmos.github.io/WebIO.jl/latest/troubleshooting/not-detected/\" target=\"_blank\">https://juliagizmos.github.io/WebIO.jl/latest/troubleshooting/not-detected/</a></p>' +\n",
       "                '</div>'\n",
       "            );\n",
       "    }\n",
       "    </script>\n",
       "</div>\n"
      ],
      "text/plain": [
       "data: [\n",
       "  \"scatter with fields line, mode, showlegend, type, x, and y\",\n",
       "  \"scatter with fields line, mode, showlegend, type, x, and y\",\n",
       "  \"scatter with fields line, mode, showlegend, type, x, and y\",\n",
       "  \"scatter with fields line, mode, showlegend, type, x, and y\",\n",
       "  \"scatter with fields line, mode, showlegend, type, x, and y\",\n",
       "  \"scatter with fields line, mode, showlegend, type, x, and y\",\n",
       "  \"scatter with fields line, mode, showlegend, type, x, and y\",\n",
       "  \"scatter with fields line, mode, showlegend, type, x, and y\",\n",
       "  \"scatter with fields line, mode, showlegend, type, x, and y\",\n",
       "  \"scatter with fields line, mode, showlegend, type, x, and y\",\n",
       "  \"scatter with fields line, mode, showlegend, type, x, and y\",\n",
       "  \"scatter with fields line, mode, showlegend, type, x, and y\",\n",
       "  \"scatter with fields line, mode, showlegend, type, x, and y\",\n",
       "  \"scatter with fields line, mode, showlegend, type, x, and y\",\n",
       "  \"scatter with fields line, mode, showlegend, type, x, and y\",\n",
       "  \"scatter with fields line, mode, showlegend, type, x, and y\",\n",
       "  \"scatter with fields line, mode, showlegend, type, x, and y\",\n",
       "  \"scatter with fields line, mode, showlegend, type, x, and y\",\n",
       "  \"scatter with fields line, mode, showlegend, type, x, and y\",\n",
       "  \"scatter with fields line, mode, showlegend, type, x, and y\",\n",
       "  \"scatter with fields line, mode, showlegend, type, x, and y\",\n",
       "  \"scatter with fields line, mode, showlegend, type, x, and y\",\n",
       "  \"scatter with fields line, mode, showlegend, type, x, and y\",\n",
       "  \"scatter with fields line, mode, showlegend, type, x, and y\",\n",
       "  \"scatter with fields line, mode, showlegend, type, x, and y\",\n",
       "  \"scatter with fields line, mode, showlegend, type, x, and y\",\n",
       "  \"scatter with fields line, mode, showlegend, type, x, and y\",\n",
       "  \"scatter with fields line, mode, showlegend, type, x, and y\",\n",
       "  \"scatter with fields line, mode, showlegend, type, x, and y\",\n",
       "  \"scatter with fields line, mode, showlegend, type, x, and y\",\n",
       "  \"scatter with fields line, mode, showlegend, type, x, and y\",\n",
       "  \"scatter with fields line, mode, name, type, x, and y\"\n",
       "]\n",
       "\n",
       "layout: \"layout with fields margin, xaxis, and yaxis\"\n",
       "\n"
      ]
     },
     "execution_count": 5,
     "metadata": {
      "application/vnd.webio.node+json": {
       "kernelId": "1ca01b33-c989-42b8-9947-596bc8b2c1e5"
      }
     },
     "output_type": "execute_result"
    }
   ],
   "source": [
    "\n",
    "plotbarcode_pjs(C,dim=1)"
   ]
  },
  {
   "cell_type": "code",
   "execution_count": 6,
   "metadata": {},
   "outputs": [
    {
     "data": {
      "application/vnd.plotly.v1+json": {
       "data": [
        {
         "hoverinfo": "x+y+text",
         "marker": {
          "color": "black",
          "size": 5
         },
         "mode": "markers",
         "text": [
          "class/size  1/5",
          "class/size  2/8",
          "class/size  3/7",
          "class/size  4/7",
          "class/size  5/5",
          "class/size  6/10",
          "class/size  7/16",
          "class/size  8/8",
          "class/size  9/10",
          "class/size  10/16",
          "class/size  11/29",
          "class/size  12/44",
          "class/size  13/10",
          "class/size  14/8",
          "class/size  15/9",
          "class/size  16/8",
          "class/size  17/4",
          "class/size  18/5",
          "class/size  19/8",
          "class/size  20/11",
          "class/size  21/10",
          "class/size  22/36",
          "class/size  23/10",
          "class/size  24/34",
          "class/size  25/23",
          "class/size  26/4",
          "class/size  27/63",
          "class/size  28/57",
          "class/size  29/67",
          "class/size  30/37",
          "class/size  31/9",
          "class/size  32/36"
         ],
         "textfont": {
          "family": "Raleway, sans-serif"
         },
         "textposition": "top center",
         "type": "scatter",
         "x": [
          0.3968440945284858,
          0.40997220217942276,
          0.42382053877281795,
          0.4289964854104258,
          0.4395621783773746,
          0.46440415408300983,
          0.4697969355476122,
          0.47292243122327576,
          0.6036254515898798,
          0.6127802680971863,
          0.6147883563912693,
          0.7340723448214262,
          0.3915679613833261,
          0.39185828445714255,
          0.4059324568822074,
          0.42898773881616936,
          0.43752157296078603,
          0.44799976886800885,
          0.4547985712387913,
          0.45570515943026135,
          0.45687838963134514,
          0.46281290247732626,
          0.4758281720477544,
          0.5391536804868015,
          0.5418560337627542,
          0.5847813473167014,
          0.6078826025089031,
          0.6248311566761308,
          0.6416325421591662,
          0.6533062098352262,
          0.40480593459937314,
          0.5659716721599862
         ],
         "y": [
          0.3983574517149339,
          0.45159124893154856,
          0.42408500047917497,
          0.43119459399000254,
          0.44344588326645296,
          0.47222813406121816,
          0.48972355170329623,
          0.4762004380182375,
          0.6044973873857651,
          0.6426137298094923,
          0.6362837112095501,
          0.7416515337803564,
          0.4104226774747992,
          0.4242977871196399,
          0.43741141316464693,
          0.4371657638898499,
          0.4497328129753096,
          0.46758187526867645,
          0.4586349431012176,
          0.4769175270130065,
          0.46788115371196404,
          0.6095547658054494,
          0.4859773195174419,
          0.5507912304244713,
          0.575642079574036,
          0.5931794422551812,
          0.6860236439498764,
          0.6801279003681643,
          0.6742355421900007,
          0.6767180199830277,
          0.4609353088100449,
          0.5995851868995055
         ]
        },
        {
         "hoverinfo": "x+text",
         "marker": {
          "color": "red",
          "size": 6
         },
         "mode": "markers",
         "text": [],
         "textfont": {
          "family": "Raleway, sans-serif"
         },
         "textposition": "top center",
         "type": "scatter",
         "x": [],
         "y": []
        }
       ],
       "frames": [],
       "layout": {
        "height": 800,
        "hovermode": "closest",
        "margin": {
         "b": 50,
         "l": 50,
         "r": 50,
         "t": 50
        },
        "scene": {
         "aspectmode": "manual",
         "aspectratio": {
          "x": 1,
          "y": 1.0023056599141746
         }
        },
        "showlegend": false,
        "width": 1000
       }
      },
      "application/vnd.webio.node+json": {
       "children": [
        {
         "children": [],
         "instanceArgs": {
          "namespace": "html",
          "tag": "div"
         },
         "nodeType": "DOM",
         "props": {
          "id": "plot-87e2f3bb-f64c-4e16-adf2-6261e34910e6"
         },
         "type": "node"
        }
       ],
       "instanceArgs": {
        "handlers": {
         "__get_gd_contents": [
          "(function (prop){prop==\"data\" ? (WebIO.setval({\"name\":\"__gd_contents\",\"scope\":\"11717175327429787122\",\"id\":\"8428325112772458334\",\"type\":\"observable\"},this.plotElem.data)) : undefined; return prop==\"layout\" ? (WebIO.setval({\"name\":\"__gd_contents\",\"scope\":\"11717175327429787122\",\"id\":\"8428325112772458334\",\"type\":\"observable\"},this.plotElem.layout)) : undefined})"
         ],
         "_commands": [
          "(function (args){var fn=args.shift(); var elem=this.plotElem; var Plotly=this.Plotly; args.unshift(elem); return Plotly[fn].apply(this,args)})"
         ],
         "_downloadImage": [
          "(function (options){return this.Plotly.downloadImage(this.plotElem,options)})"
         ],
         "_toImage": [
          "(function (options){return this.Plotly.toImage(this.plotElem,options).then((function (data){return WebIO.setval({\"name\":\"image\",\"scope\":\"11717175327429787122\",\"id\":\"11496020889941823090\",\"type\":\"observable\"},data)}))})"
         ]
        },
        "id": "11717175327429787122",
        "imports": {
         "data": [
          {
           "name": "Plotly",
           "type": "js",
           "url": "/assetserver/b3a562c629e4214a506d0182e45e3c09deead92f-plotly-latest.min.js"
          },
          {
           "name": null,
           "type": "js",
           "url": "/assetserver/6abd48d41ff55cbb816dd18213c29492a550b0d0-plotly_webio.bundle.js"
          }
         ],
         "type": "async_block"
        },
        "mount_callbacks": [
         "function () {\n    var handler = ((function (Plotly,PlotlyWebIO){PlotlyWebIO.init(WebIO); var gd=this.dom.querySelector(\"#plot-87e2f3bb-f64c-4e16-adf2-6261e34910e6\"); this.plotElem=gd; this.Plotly=Plotly; (window.Blink!==undefined) ? (gd.style.width=\"100%\", gd.style.height=\"100vh\", gd.style.marginLeft=\"0%\", gd.style.marginTop=\"0vh\") : undefined; window.onresize=(function (){return Plotly.Plots.resize(gd)}); Plotly.newPlot(gd,[{\"marker\":{\"color\":\"black\",\"size\":5},\"mode\":\"markers\",\"textfont\":{\"family\":\"Raleway, sans-serif\"},\"textposition\":\"top center\",\"y\":[0.3983574517149339,0.45159124893154856,0.42408500047917497,0.43119459399000254,0.44344588326645296,0.47222813406121816,0.48972355170329623,0.4762004380182375,0.6044973873857651,0.6426137298094923,0.6362837112095501,0.7416515337803564,0.4104226774747992,0.4242977871196399,0.43741141316464693,0.4371657638898499,0.4497328129753096,0.46758187526867645,0.4586349431012176,0.4769175270130065,0.46788115371196404,0.6095547658054494,0.4859773195174419,0.5507912304244713,0.575642079574036,0.5931794422551812,0.6860236439498764,0.6801279003681643,0.6742355421900007,0.6767180199830277,0.4609353088100449,0.5995851868995055],\"type\":\"scatter\",\"hoverinfo\":\"x+y+text\",\"text\":[\"class/size  1/5\",\"class/size  2/8\",\"class/size  3/7\",\"class/size  4/7\",\"class/size  5/5\",\"class/size  6/10\",\"class/size  7/16\",\"class/size  8/8\",\"class/size  9/10\",\"class/size  10/16\",\"class/size  11/29\",\"class/size  12/44\",\"class/size  13/10\",\"class/size  14/8\",\"class/size  15/9\",\"class/size  16/8\",\"class/size  17/4\",\"class/size  18/5\",\"class/size  19/8\",\"class/size  20/11\",\"class/size  21/10\",\"class/size  22/36\",\"class/size  23/10\",\"class/size  24/34\",\"class/size  25/23\",\"class/size  26/4\",\"class/size  27/63\",\"class/size  28/57\",\"class/size  29/67\",\"class/size  30/37\",\"class/size  31/9\",\"class/size  32/36\"],\"x\":[0.3968440945284858,0.40997220217942276,0.42382053877281795,0.4289964854104258,0.4395621783773746,0.46440415408300983,0.4697969355476122,0.47292243122327576,0.6036254515898798,0.6127802680971863,0.6147883563912693,0.7340723448214262,0.3915679613833261,0.39185828445714255,0.4059324568822074,0.42898773881616936,0.43752157296078603,0.44799976886800885,0.4547985712387913,0.45570515943026135,0.45687838963134514,0.46281290247732626,0.4758281720477544,0.5391536804868015,0.5418560337627542,0.5847813473167014,0.6078826025089031,0.6248311566761308,0.6416325421591662,0.6533062098352262,0.40480593459937314,0.5659716721599862]},{\"marker\":{\"color\":\"red\",\"size\":6},\"mode\":\"markers\",\"textfont\":{\"family\":\"Raleway, sans-serif\"},\"textposition\":\"top center\",\"y\":[],\"type\":\"scatter\",\"hoverinfo\":\"x+text\",\"text\":[],\"x\":[]}],{\"showlegend\":false,\"hovermode\":\"closest\",\"height\":800,\"margin\":{\"l\":50,\"b\":50,\"r\":50,\"t\":50},\"scene\":{\"aspectratio\":{\"y\":1.0023056599141746,\"x\":1.0},\"aspectmode\":\"manual\"},\"width\":1000},{}); gd.on(\"plotly_hover\",(function (data){var filtered_data=WebIO.PlotlyCommands.filterEventData(gd,data,\"hover\"); return !(filtered_data.isnil) ? (WebIO.setval({\"name\":\"hover\",\"scope\":\"11717175327429787122\",\"id\":\"13686701640692774984\",\"type\":\"observable\"},filtered_data.out)) : undefined})); gd.on(\"plotly_unhover\",(function (){return WebIO.setval({\"name\":\"hover\",\"scope\":\"11717175327429787122\",\"id\":\"13686701640692774984\",\"type\":\"observable\"},{})})); gd.on(\"plotly_selected\",(function (data){var filtered_data=WebIO.PlotlyCommands.filterEventData(gd,data,\"selected\"); return !(filtered_data.isnil) ? (WebIO.setval({\"name\":\"selected\",\"scope\":\"11717175327429787122\",\"id\":\"16290765750413996481\",\"type\":\"observable\"},filtered_data.out)) : undefined})); gd.on(\"plotly_deselect\",(function (){return WebIO.setval({\"name\":\"selected\",\"scope\":\"11717175327429787122\",\"id\":\"16290765750413996481\",\"type\":\"observable\"},{})})); gd.on(\"plotly_relayout\",(function (data){var filtered_data=WebIO.PlotlyCommands.filterEventData(gd,data,\"relayout\"); return !(filtered_data.isnil) ? (WebIO.setval({\"name\":\"relayout\",\"scope\":\"11717175327429787122\",\"id\":\"16109971511481455595\",\"type\":\"observable\"},filtered_data.out)) : undefined})); return gd.on(\"plotly_click\",(function (data){var filtered_data=WebIO.PlotlyCommands.filterEventData(gd,data,\"click\"); return !(filtered_data.isnil) ? (WebIO.setval({\"name\":\"click\",\"scope\":\"11717175327429787122\",\"id\":\"10785656755816402201\",\"type\":\"observable\"},filtered_data.out)) : undefined}))}));\n    (WebIO.importBlock({\"data\":[{\"name\":\"Plotly\",\"type\":\"js\",\"url\":\"/assetserver/b3a562c629e4214a506d0182e45e3c09deead92f-plotly-latest.min.js\"},{\"name\":null,\"type\":\"js\",\"url\":\"/assetserver/6abd48d41ff55cbb816dd18213c29492a550b0d0-plotly_webio.bundle.js\"}],\"type\":\"async_block\"})).then((imports) => handler.apply(this, imports));\n}\n"
        ],
        "observables": {
         "__gd_contents": {
          "id": "8428325112772458334",
          "sync": false,
          "value": {}
         },
         "__get_gd_contents": {
          "id": "15606561486859332131",
          "sync": false,
          "value": ""
         },
         "_commands": {
          "id": "2179274045677915059",
          "sync": false,
          "value": []
         },
         "_downloadImage": {
          "id": "2192963321932263777",
          "sync": false,
          "value": {}
         },
         "_toImage": {
          "id": "16497255271157180581",
          "sync": false,
          "value": {}
         },
         "click": {
          "id": "10785656755816402201",
          "sync": false,
          "value": {}
         },
         "hover": {
          "id": "13686701640692774984",
          "sync": false,
          "value": {}
         },
         "image": {
          "id": "11496020889941823090",
          "sync": true,
          "value": ""
         },
         "relayout": {
          "id": "16109971511481455595",
          "sync": false,
          "value": {}
         },
         "selected": {
          "id": "16290765750413996481",
          "sync": false,
          "value": {}
         }
        },
        "systemjs_options": null
       },
       "nodeType": "Scope",
       "props": {},
       "type": "node"
      },
      "image/png": "[encoded data removed]",
      "image/svg+xml": [
       "<svg class=\"main-svg\" xmlns=\"http://www.w3.org/2000/svg\" xmlns:xlink=\"http://www.w3.org/1999/xlink\" width=\"700\" height=\"500\" style=\"\" viewBox=\"0 0 700 500\"><rect x=\"0\" y=\"0\" width=\"700\" height=\"500\" style=\"fill: rgb(255, 255, 255); fill-opacity: 1;\"/><defs id=\"defs-fe30db\"><g class=\"clips\"><clipPath id=\"clipfe30dbxyplot\" class=\"plotclip\"><rect width=\"600\" height=\"400\"/></clipPath><clipPath class=\"axesclip\" id=\"clipfe30dbx\"><rect x=\"50\" y=\"0\" width=\"600\" height=\"500\"/></clipPath><clipPath class=\"axesclip\" id=\"clipfe30dby\"><rect x=\"0\" y=\"50\" width=\"700\" height=\"400\"/></clipPath><clipPath class=\"axesclip\" id=\"clipfe30dbxy\"><rect x=\"50\" y=\"50\" width=\"600\" height=\"400\"/></clipPath></g><g class=\"gradients\"/></defs><g class=\"bglayer\"/><g class=\"layer-below\"><g class=\"imagelayer\"/><g class=\"shapelayer\"/></g><g class=\"cartesianlayer\"><g class=\"subplot xy\"><g class=\"layer-subplot\"><g class=\"shapelayer\"/><g class=\"imagelayer\"/></g><g class=\"gridlayer\"><g class=\"x\"><path class=\"xgrid crisp\" transform=\"translate(96.27000000000001,0)\" d=\"M0,50v400\" style=\"stroke: rgb(238, 238, 238); stroke-opacity: 1; stroke-width: 1px;\"/><path class=\"xgrid crisp\" transform=\"translate(174.18,0)\" d=\"M0,50v400\" style=\"stroke: rgb(238, 238, 238); stroke-opacity: 1; stroke-width: 1px;\"/><path class=\"xgrid crisp\" transform=\"translate(252.1,0)\" d=\"M0,50v400\" style=\"stroke: rgb(238, 238, 238); stroke-opacity: 1; stroke-width: 1px;\"/><path class=\"xgrid crisp\" transform=\"translate(330.02,0)\" d=\"M0,50v400\" style=\"stroke: rgb(238, 238, 238); stroke-opacity: 1; stroke-width: 1px;\"/><path class=\"xgrid crisp\" transform=\"translate(407.94,0)\" d=\"M0,50v400\" style=\"stroke: rgb(238, 238, 238); stroke-opacity: 1; stroke-width: 1px;\"/><path class=\"xgrid crisp\" transform=\"translate(485.86,0)\" d=\"M0,50v400\" style=\"stroke: rgb(238, 238, 238); stroke-opacity: 1; stroke-width: 1px;\"/><path class=\"xgrid crisp\" transform=\"translate(563.78,0)\" d=\"M0,50v400\" style=\"stroke: rgb(238, 238, 238); stroke-opacity: 1; stroke-width: 1px;\"/><path class=\"xgrid crisp\" transform=\"translate(641.7,0)\" d=\"M0,50v400\" style=\"stroke: rgb(238, 238, 238); stroke-opacity: 1; stroke-width: 1px;\"/></g><g class=\"y\"><path class=\"ygrid crisp\" transform=\"translate(0,425.18)\" d=\"M50,0h600\" style=\"stroke: rgb(238, 238, 238); stroke-opacity: 1; stroke-width: 1px;\"/><path class=\"ygrid crisp\" transform=\"translate(0,373.66)\" d=\"M50,0h600\" style=\"stroke: rgb(238, 238, 238); stroke-opacity: 1; stroke-width: 1px;\"/><path class=\"ygrid crisp\" transform=\"translate(0,322.14)\" d=\"M50,0h600\" style=\"stroke: rgb(238, 238, 238); stroke-opacity: 1; stroke-width: 1px;\"/><path class=\"ygrid crisp\" transform=\"translate(0,270.61)\" d=\"M50,0h600\" style=\"stroke: rgb(238, 238, 238); stroke-opacity: 1; stroke-width: 1px;\"/><path class=\"ygrid crisp\" transform=\"translate(0,219.09)\" d=\"M50,0h600\" style=\"stroke: rgb(238, 238, 238); stroke-opacity: 1; stroke-width: 1px;\"/><path class=\"ygrid crisp\" transform=\"translate(0,167.57)\" d=\"M50,0h600\" style=\"stroke: rgb(238, 238, 238); stroke-opacity: 1; stroke-width: 1px;\"/><path class=\"ygrid crisp\" transform=\"translate(0,116.05)\" d=\"M50,0h600\" style=\"stroke: rgb(238, 238, 238); stroke-opacity: 1; stroke-width: 1px;\"/><path class=\"ygrid crisp\" transform=\"translate(0,64.52)\" d=\"M50,0h600\" style=\"stroke: rgb(238, 238, 238); stroke-opacity: 1; stroke-width: 1px;\"/></g></g><g class=\"zerolinelayer\"/><path class=\"xlines-below\"/><path class=\"ylines-below\"/><g class=\"overlines-below\"/><g class=\"xaxislayer-below\"/><g class=\"yaxislayer-below\"/><g class=\"overaxes-below\"/><g class=\"plot\" transform=\"translate(50,50)\" clip-path=\"url('#clipfe30dbxyplot')\"><g class=\"scatterlayer mlayer\"><g class=\"trace scatter trace0032f7\" style=\"stroke-miterlimit: 2; opacity: 1;\"><g class=\"fills\"/><g class=\"errorbars\"/><g class=\"lines\"/><g class=\"points\"><path class=\"point\" transform=\"translate(41.35,376.88)\" d=\"M2.5,0A2.5,2.5 0 1,1 0,-2.5A2.5,2.5 0 0,1 2.5,0Z\" style=\"opacity: 1; stroke-width: 0px; fill: rgb(0, 0, 0); fill-opacity: 1;\"/><path class=\"point\" transform=\"translate(61.81,322.02)\" d=\"M2.5,0A2.5,2.5 0 1,1 0,-2.5A2.5,2.5 0 0,1 2.5,0Z\" style=\"opacity: 1; stroke-width: 0px; fill: rgb(0, 0, 0); fill-opacity: 1;\"/><path class=\"point\" transform=\"translate(83.39,350.36)\" d=\"M2.5,0A2.5,2.5 0 1,1 0,-2.5A2.5,2.5 0 0,1 2.5,0Z\" style=\"opacity: 1; stroke-width: 0px; fill: rgb(0, 0, 0); fill-opacity: 1;\"/><path class=\"point\" transform=\"translate(91.45,343.04)\" d=\"M2.5,0A2.5,2.5 0 1,1 0,-2.5A2.5,2.5 0 0,1 2.5,0Z\" style=\"opacity: 1; stroke-width: 0px; fill: rgb(0, 0, 0); fill-opacity: 1;\"/><path class=\"point\" transform=\"translate(107.92,330.41)\" d=\"M2.5,0A2.5,2.5 0 1,1 0,-2.5A2.5,2.5 0 0,1 2.5,0Z\" style=\"opacity: 1; stroke-width: 0px; fill: rgb(0, 0, 0); fill-opacity: 1;\"/><path class=\"point\" transform=\"translate(146.63,300.75)\" d=\"M2.5,0A2.5,2.5 0 1,1 0,-2.5A2.5,2.5 0 0,1 2.5,0Z\" style=\"opacity: 1; stroke-width: 0px; fill: rgb(0, 0, 0); fill-opacity: 1;\"/><path class=\"point\" transform=\"translate(155.04,282.73)\" d=\"M2.5,0A2.5,2.5 0 1,1 0,-2.5A2.5,2.5 0 0,1 2.5,0Z\" style=\"opacity: 1; stroke-width: 0px; fill: rgb(0, 0, 0); fill-opacity: 1;\"/><path class=\"point\" transform=\"translate(159.91,296.66)\" d=\"M2.5,0A2.5,2.5 0 1,1 0,-2.5A2.5,2.5 0 0,1 2.5,0Z\" style=\"opacity: 1; stroke-width: 0px; fill: rgb(0, 0, 0); fill-opacity: 1;\"/><path class=\"point\" transform=\"translate(363.59,164.46)\" d=\"M2.5,0A2.5,2.5 0 1,1 0,-2.5A2.5,2.5 0 0,1 2.5,0Z\" style=\"opacity: 1; stroke-width: 0px; fill: rgb(0, 0, 0); fill-opacity: 1;\"/><path class=\"point\" transform=\"translate(377.86,125.18)\" d=\"M2.5,0A2.5,2.5 0 1,1 0,-2.5A2.5,2.5 0 0,1 2.5,0Z\" style=\"opacity: 1; stroke-width: 0px; fill: rgb(0, 0, 0); fill-opacity: 1;\"/><path class=\"point\" transform=\"translate(380.99,131.7)\" d=\"M2.5,0A2.5,2.5 0 1,1 0,-2.5A2.5,2.5 0 0,1 2.5,0Z\" style=\"opacity: 1; stroke-width: 0px; fill: rgb(0, 0, 0); fill-opacity: 1;\"/><path class=\"point\" transform=\"translate(566.88,23.13)\" d=\"M2.5,0A2.5,2.5 0 1,1 0,-2.5A2.5,2.5 0 0,1 2.5,0Z\" style=\"opacity: 1; stroke-width: 0px; fill: rgb(0, 0, 0); fill-opacity: 1;\"/><path class=\"point\" transform=\"translate(33.13,364.44)\" d=\"M2.5,0A2.5,2.5 0 1,1 0,-2.5A2.5,2.5 0 0,1 2.5,0Z\" style=\"opacity: 1; stroke-width: 0px; fill: rgb(0, 0, 0); fill-opacity: 1;\"/><path class=\"point\" transform=\"translate(33.58,350.14)\" d=\"M2.5,0A2.5,2.5 0 1,1 0,-2.5A2.5,2.5 0 0,1 2.5,0Z\" style=\"opacity: 1; stroke-width: 0px; fill: rgb(0, 0, 0); fill-opacity: 1;\"/><path class=\"point\" transform=\"translate(55.51,336.63)\" d=\"M2.5,0A2.5,2.5 0 1,1 0,-2.5A2.5,2.5 0 0,1 2.5,0Z\" style=\"opacity: 1; stroke-width: 0px; fill: rgb(0, 0, 0); fill-opacity: 1;\"/><path class=\"point\" transform=\"translate(91.44,336.88)\" d=\"M2.5,0A2.5,2.5 0 1,1 0,-2.5A2.5,2.5 0 0,1 2.5,0Z\" style=\"opacity: 1; stroke-width: 0px; fill: rgb(0, 0, 0); fill-opacity: 1;\"/><path class=\"point\" transform=\"translate(104.74,323.93)\" d=\"M2.5,0A2.5,2.5 0 1,1 0,-2.5A2.5,2.5 0 0,1 2.5,0Z\" style=\"opacity: 1; stroke-width: 0px; fill: rgb(0, 0, 0); fill-opacity: 1;\"/><path class=\"point\" transform=\"translate(121.07,305.54)\" d=\"M2.5,0A2.5,2.5 0 1,1 0,-2.5A2.5,2.5 0 0,1 2.5,0Z\" style=\"opacity: 1; stroke-width: 0px; fill: rgb(0, 0, 0); fill-opacity: 1;\"/><path class=\"point\" transform=\"translate(131.66,314.76)\" d=\"M2.5,0A2.5,2.5 0 1,1 0,-2.5A2.5,2.5 0 0,1 2.5,0Z\" style=\"opacity: 1; stroke-width: 0px; fill: rgb(0, 0, 0); fill-opacity: 1;\"/><path class=\"point\" transform=\"translate(133.07,295.92)\" d=\"M2.5,0A2.5,2.5 0 1,1 0,-2.5A2.5,2.5 0 0,1 2.5,0Z\" style=\"opacity: 1; stroke-width: 0px; fill: rgb(0, 0, 0); fill-opacity: 1;\"/><path class=\"point\" transform=\"translate(134.9,305.23)\" d=\"M2.5,0A2.5,2.5 0 1,1 0,-2.5A2.5,2.5 0 0,1 2.5,0Z\" style=\"opacity: 1; stroke-width: 0px; fill: rgb(0, 0, 0); fill-opacity: 1;\"/><path class=\"point\" transform=\"translate(144.15,159.25)\" d=\"M2.5,0A2.5,2.5 0 1,1 0,-2.5A2.5,2.5 0 0,1 2.5,0Z\" style=\"opacity: 1; stroke-width: 0px; fill: rgb(0, 0, 0); fill-opacity: 1;\"/><path class=\"point\" transform=\"translate(164.43,286.59)\" d=\"M2.5,0A2.5,2.5 0 1,1 0,-2.5A2.5,2.5 0 0,1 2.5,0Z\" style=\"opacity: 1; stroke-width: 0px; fill: rgb(0, 0, 0); fill-opacity: 1;\"/><path class=\"point\" transform=\"translate(263.12,219.8)\" d=\"M2.5,0A2.5,2.5 0 1,1 0,-2.5A2.5,2.5 0 0,1 2.5,0Z\" style=\"opacity: 1; stroke-width: 0px; fill: rgb(0, 0, 0); fill-opacity: 1;\"/><path class=\"point\" transform=\"translate(267.33,194.19)\" d=\"M2.5,0A2.5,2.5 0 1,1 0,-2.5A2.5,2.5 0 0,1 2.5,0Z\" style=\"opacity: 1; stroke-width: 0px; fill: rgb(0, 0, 0); fill-opacity: 1;\"/><path class=\"point\" transform=\"translate(334.22,176.12)\" d=\"M2.5,0A2.5,2.5 0 1,1 0,-2.5A2.5,2.5 0 0,1 2.5,0Z\" style=\"opacity: 1; stroke-width: 0px; fill: rgb(0, 0, 0); fill-opacity: 1;\"/><path class=\"point\" transform=\"translate(370.22,80.45)\" d=\"M2.5,0A2.5,2.5 0 1,1 0,-2.5A2.5,2.5 0 0,1 2.5,0Z\" style=\"opacity: 1; stroke-width: 0px; fill: rgb(0, 0, 0); fill-opacity: 1;\"/><path class=\"point\" transform=\"translate(396.64,86.52)\" d=\"M2.5,0A2.5,2.5 0 1,1 0,-2.5A2.5,2.5 0 0,1 2.5,0Z\" style=\"opacity: 1; stroke-width: 0px; fill: rgb(0, 0, 0); fill-opacity: 1;\"/><path class=\"point\" transform=\"translate(422.82,92.59)\" d=\"M2.5,0A2.5,2.5 0 1,1 0,-2.5A2.5,2.5 0 0,1 2.5,0Z\" style=\"opacity: 1; stroke-width: 0px; fill: rgb(0, 0, 0); fill-opacity: 1;\"/><path class=\"point\" transform=\"translate(441.01,90.04)\" d=\"M2.5,0A2.5,2.5 0 1,1 0,-2.5A2.5,2.5 0 0,1 2.5,0Z\" style=\"opacity: 1; stroke-width: 0px; fill: rgb(0, 0, 0); fill-opacity: 1;\"/><path class=\"point\" transform=\"translate(53.75,312.39)\" d=\"M2.5,0A2.5,2.5 0 1,1 0,-2.5A2.5,2.5 0 0,1 2.5,0Z\" style=\"opacity: 1; stroke-width: 0px; fill: rgb(0, 0, 0); fill-opacity: 1;\"/><path class=\"point\" transform=\"translate(304.91,169.52)\" d=\"M2.5,0A2.5,2.5 0 1,1 0,-2.5A2.5,2.5 0 0,1 2.5,0Z\" style=\"opacity: 1; stroke-width: 0px; fill: rgb(0, 0, 0); fill-opacity: 1;\"/></g><g class=\"text\"/></g></g></g><g class=\"overplot\"/><path class=\"xlines-above crisp\" d=\"M0,0\" style=\"fill: none;\"/><path class=\"ylines-above crisp\" d=\"M0,0\" style=\"fill: none;\"/><g class=\"overlines-above\"/><g class=\"xaxislayer-above\"><g class=\"xtick\"><text text-anchor=\"middle\" x=\"0\" y=\"463\" transform=\"translate(96.27000000000001,0)\" style=\"font-family: 'Open Sans', verdana, arial, sans-serif; font-size: 12px; fill: rgb(68, 68, 68); fill-opacity: 1; white-space: pre;\">0.4</text></g><g class=\"xtick\"><text text-anchor=\"middle\" x=\"0\" y=\"463\" transform=\"translate(174.18,0)\" style=\"font-family: 'Open Sans', verdana, arial, sans-serif; font-size: 12px; fill: rgb(68, 68, 68); fill-opacity: 1; white-space: pre;\">0.45</text></g><g class=\"xtick\"><text text-anchor=\"middle\" x=\"0\" y=\"463\" transform=\"translate(252.1,0)\" style=\"font-family: 'Open Sans', verdana, arial, sans-serif; font-size: 12px; fill: rgb(68, 68, 68); fill-opacity: 1; white-space: pre;\">0.5</text></g><g class=\"xtick\"><text text-anchor=\"middle\" x=\"0\" y=\"463\" transform=\"translate(330.02,0)\" style=\"font-family: 'Open Sans', verdana, arial, sans-serif; font-size: 12px; fill: rgb(68, 68, 68); fill-opacity: 1; white-space: pre;\">0.55</text></g><g class=\"xtick\"><text text-anchor=\"middle\" x=\"0\" y=\"463\" transform=\"translate(407.94,0)\" style=\"font-family: 'Open Sans', verdana, arial, sans-serif; font-size: 12px; fill: rgb(68, 68, 68); fill-opacity: 1; white-space: pre;\">0.6</text></g><g class=\"xtick\"><text text-anchor=\"middle\" x=\"0\" y=\"463\" transform=\"translate(485.86,0)\" style=\"font-family: 'Open Sans', verdana, arial, sans-serif; font-size: 12px; fill: rgb(68, 68, 68); fill-opacity: 1; white-space: pre;\">0.65</text></g><g class=\"xtick\"><text text-anchor=\"middle\" x=\"0\" y=\"463\" transform=\"translate(563.78,0)\" style=\"font-family: 'Open Sans', verdana, arial, sans-serif; font-size: 12px; fill: rgb(68, 68, 68); fill-opacity: 1; white-space: pre;\">0.7</text></g><g class=\"xtick\"><text text-anchor=\"middle\" x=\"0\" y=\"463\" transform=\"translate(641.7,0)\" style=\"font-family: 'Open Sans', verdana, arial, sans-serif; font-size: 12px; fill: rgb(68, 68, 68); fill-opacity: 1; white-space: pre;\">0.75</text></g></g><g class=\"yaxislayer-above\"><g class=\"ytick\"><text text-anchor=\"end\" x=\"49\" y=\"4.199999999999999\" transform=\"translate(0,425.18)\" style=\"font-family: 'Open Sans', verdana, arial, sans-serif; font-size: 12px; fill: rgb(68, 68, 68); fill-opacity: 1; white-space: pre;\">0.4</text></g><g class=\"ytick\"><text text-anchor=\"end\" x=\"49\" y=\"4.199999999999999\" transform=\"translate(0,373.66)\" style=\"font-family: 'Open Sans', verdana, arial, sans-serif; font-size: 12px; fill: rgb(68, 68, 68); fill-opacity: 1; white-space: pre;\">0.45</text></g><g class=\"ytick\"><text text-anchor=\"end\" x=\"49\" y=\"4.199999999999999\" transform=\"translate(0,322.14)\" style=\"font-family: 'Open Sans', verdana, arial, sans-serif; font-size: 12px; fill: rgb(68, 68, 68); fill-opacity: 1; white-space: pre;\">0.5</text></g><g class=\"ytick\"><text text-anchor=\"end\" x=\"49\" y=\"4.199999999999999\" transform=\"translate(0,270.61)\" style=\"font-family: 'Open Sans', verdana, arial, sans-serif; font-size: 12px; fill: rgb(68, 68, 68); fill-opacity: 1; white-space: pre;\">0.55</text></g><g class=\"ytick\"><text text-anchor=\"end\" x=\"49\" y=\"4.199999999999999\" transform=\"translate(0,219.09)\" style=\"font-family: 'Open Sans', verdana, arial, sans-serif; font-size: 12px; fill: rgb(68, 68, 68); fill-opacity: 1; white-space: pre;\">0.6</text></g><g class=\"ytick\"><text text-anchor=\"end\" x=\"49\" y=\"4.199999999999999\" transform=\"translate(0,167.57)\" style=\"font-family: 'Open Sans', verdana, arial, sans-serif; font-size: 12px; fill: rgb(68, 68, 68); fill-opacity: 1; white-space: pre;\">0.65</text></g><g class=\"ytick\"><text text-anchor=\"end\" x=\"49\" y=\"4.199999999999999\" transform=\"translate(0,116.05)\" style=\"font-family: 'Open Sans', verdana, arial, sans-serif; font-size: 12px; fill: rgb(68, 68, 68); fill-opacity: 1; white-space: pre;\">0.7</text></g><g class=\"ytick\"><text text-anchor=\"end\" x=\"49\" y=\"4.199999999999999\" transform=\"translate(0,64.52)\" style=\"font-family: 'Open Sans', verdana, arial, sans-serif; font-size: 12px; fill: rgb(68, 68, 68); fill-opacity: 1; white-space: pre;\">0.75</text></g></g><g class=\"overaxes-above\"/></g></g><g class=\"polarlayer\"/><g class=\"ternarylayer\"/><g class=\"geolayer\"/><g class=\"funnelarealayer\"/><g class=\"pielayer\"/><g class=\"treemaplayer\"/><g class=\"sunburstlayer\"/><g class=\"glimages\"/><defs id=\"topdefs-fe30db\"><g class=\"clips\"/></defs><g class=\"layer-above\"><g class=\"imagelayer\"/><g class=\"shapelayer\"/></g><g class=\"infolayer\"><g class=\"g-gtitle\"/><g class=\"g-xtitle\"/><g class=\"g-ytitle\"/></g></svg>"
      ],
      "text/html": [
       "<div\n",
       "    class=\"webio-mountpoint\"\n",
       "    data-webio-mountpoint=\"12534188885490077926\"\n",
       ">\n",
       "    <script>\n",
       "    if (window.require && require.defined && require.defined(\"nbextensions/webio-jupyter-notebook\")) {\n",
       "        console.log(\"Jupyter WebIO extension detected, not mounting.\");\n",
       "    } else if (window.WebIO) {\n",
       "        WebIO.mount(\n",
       "            document.querySelector('[data-webio-mountpoint=\"12534188885490077926\"]'),\n",
       "            {\"props\":{},\"nodeType\":\"Scope\",\"type\":\"node\",\"instanceArgs\":{\"imports\":{\"data\":[{\"name\":\"Plotly\",\"type\":\"js\",\"url\":\"\\/assetserver\\/b3a562c629e4214a506d0182e45e3c09deead92f-plotly-latest.min.js\"},{\"name\":null,\"type\":\"js\",\"url\":\"\\/assetserver\\/6abd48d41ff55cbb816dd18213c29492a550b0d0-plotly_webio.bundle.js\"}],\"type\":\"async_block\"},\"id\":\"11717175327429787122\",\"handlers\":{\"_toImage\":[\"(function (options){return this.Plotly.toImage(this.plotElem,options).then((function (data){return WebIO.setval({\\\"name\\\":\\\"image\\\",\\\"scope\\\":\\\"11717175327429787122\\\",\\\"id\\\":\\\"11496020889941823090\\\",\\\"type\\\":\\\"observable\\\"},data)}))})\"],\"__get_gd_contents\":[\"(function (prop){prop==\\\"data\\\" ? (WebIO.setval({\\\"name\\\":\\\"__gd_contents\\\",\\\"scope\\\":\\\"11717175327429787122\\\",\\\"id\\\":\\\"8428325112772458334\\\",\\\"type\\\":\\\"observable\\\"},this.plotElem.data)) : undefined; return prop==\\\"layout\\\" ? (WebIO.setval({\\\"name\\\":\\\"__gd_contents\\\",\\\"scope\\\":\\\"11717175327429787122\\\",\\\"id\\\":\\\"8428325112772458334\\\",\\\"type\\\":\\\"observable\\\"},this.plotElem.layout)) : undefined})\"],\"_downloadImage\":[\"(function (options){return this.Plotly.downloadImage(this.plotElem,options)})\"],\"_commands\":[\"(function (args){var fn=args.shift(); var elem=this.plotElem; var Plotly=this.Plotly; args.unshift(elem); return Plotly[fn].apply(this,args)})\"]},\"systemjs_options\":null,\"mount_callbacks\":[\"function () {\\n    var handler = ((function (Plotly,PlotlyWebIO){PlotlyWebIO.init(WebIO); var gd=this.dom.querySelector(\\\"#plot-87e2f3bb-f64c-4e16-adf2-6261e34910e6\\\"); this.plotElem=gd; this.Plotly=Plotly; (window.Blink!==undefined) ? (gd.style.width=\\\"100%\\\", gd.style.height=\\\"100vh\\\", gd.style.marginLeft=\\\"0%\\\", gd.style.marginTop=\\\"0vh\\\") : undefined; window.onresize=(function (){return Plotly.Plots.resize(gd)}); Plotly.newPlot(gd,[{\\\"marker\\\":{\\\"color\\\":\\\"black\\\",\\\"size\\\":5},\\\"mode\\\":\\\"markers\\\",\\\"textfont\\\":{\\\"family\\\":\\\"Raleway, sans-serif\\\"},\\\"textposition\\\":\\\"top center\\\",\\\"y\\\":[0.3983574517149339,0.45159124893154856,0.42408500047917497,0.43119459399000254,0.44344588326645296,0.47222813406121816,0.48972355170329623,0.4762004380182375,0.6044973873857651,0.6426137298094923,0.6362837112095501,0.7416515337803564,0.4104226774747992,0.4242977871196399,0.43741141316464693,0.4371657638898499,0.4497328129753096,0.46758187526867645,0.4586349431012176,0.4769175270130065,0.46788115371196404,0.6095547658054494,0.4859773195174419,0.5507912304244713,0.575642079574036,0.5931794422551812,0.6860236439498764,0.6801279003681643,0.6742355421900007,0.6767180199830277,0.4609353088100449,0.5995851868995055],\\\"type\\\":\\\"scatter\\\",\\\"hoverinfo\\\":\\\"x+y+text\\\",\\\"text\\\":[\\\"class\\/size  1\\/5\\\",\\\"class\\/size  2\\/8\\\",\\\"class\\/size  3\\/7\\\",\\\"class\\/size  4\\/7\\\",\\\"class\\/size  5\\/5\\\",\\\"class\\/size  6\\/10\\\",\\\"class\\/size  7\\/16\\\",\\\"class\\/size  8\\/8\\\",\\\"class\\/size  9\\/10\\\",\\\"class\\/size  10\\/16\\\",\\\"class\\/size  11\\/29\\\",\\\"class\\/size  12\\/44\\\",\\\"class\\/size  13\\/10\\\",\\\"class\\/size  14\\/8\\\",\\\"class\\/size  15\\/9\\\",\\\"class\\/size  16\\/8\\\",\\\"class\\/size  17\\/4\\\",\\\"class\\/size  18\\/5\\\",\\\"class\\/size  19\\/8\\\",\\\"class\\/size  20\\/11\\\",\\\"class\\/size  21\\/10\\\",\\\"class\\/size  22\\/36\\\",\\\"class\\/size  23\\/10\\\",\\\"class\\/size  24\\/34\\\",\\\"class\\/size  25\\/23\\\",\\\"class\\/size  26\\/4\\\",\\\"class\\/size  27\\/63\\\",\\\"class\\/size  28\\/57\\\",\\\"class\\/size  29\\/67\\\",\\\"class\\/size  30\\/37\\\",\\\"class\\/size  31\\/9\\\",\\\"class\\/size  32\\/36\\\"],\\\"x\\\":[0.3968440945284858,0.40997220217942276,0.42382053877281795,0.4289964854104258,0.4395621783773746,0.46440415408300983,0.4697969355476122,0.47292243122327576,0.6036254515898798,0.6127802680971863,0.6147883563912693,0.7340723448214262,0.3915679613833261,0.39185828445714255,0.4059324568822074,0.42898773881616936,0.43752157296078603,0.44799976886800885,0.4547985712387913,0.45570515943026135,0.45687838963134514,0.46281290247732626,0.4758281720477544,0.5391536804868015,0.5418560337627542,0.5847813473167014,0.6078826025089031,0.6248311566761308,0.6416325421591662,0.6533062098352262,0.40480593459937314,0.5659716721599862]},{\\\"marker\\\":{\\\"color\\\":\\\"red\\\",\\\"size\\\":6},\\\"mode\\\":\\\"markers\\\",\\\"textfont\\\":{\\\"family\\\":\\\"Raleway, sans-serif\\\"},\\\"textposition\\\":\\\"top center\\\",\\\"y\\\":[],\\\"type\\\":\\\"scatter\\\",\\\"hoverinfo\\\":\\\"x+text\\\",\\\"text\\\":[],\\\"x\\\":[]}],{\\\"showlegend\\\":false,\\\"hovermode\\\":\\\"closest\\\",\\\"height\\\":800,\\\"margin\\\":{\\\"l\\\":50,\\\"b\\\":50,\\\"r\\\":50,\\\"t\\\":50},\\\"scene\\\":{\\\"aspectratio\\\":{\\\"y\\\":1.0023056599141746,\\\"x\\\":1.0},\\\"aspectmode\\\":\\\"manual\\\"},\\\"width\\\":1000},{}); gd.on(\\\"plotly_hover\\\",(function (data){var filtered_data=WebIO.PlotlyCommands.filterEventData(gd,data,\\\"hover\\\"); return !(filtered_data.isnil) ? (WebIO.setval({\\\"name\\\":\\\"hover\\\",\\\"scope\\\":\\\"11717175327429787122\\\",\\\"id\\\":\\\"13686701640692774984\\\",\\\"type\\\":\\\"observable\\\"},filtered_data.out)) : undefined})); gd.on(\\\"plotly_unhover\\\",(function (){return WebIO.setval({\\\"name\\\":\\\"hover\\\",\\\"scope\\\":\\\"11717175327429787122\\\",\\\"id\\\":\\\"13686701640692774984\\\",\\\"type\\\":\\\"observable\\\"},{})})); gd.on(\\\"plotly_selected\\\",(function (data){var filtered_data=WebIO.PlotlyCommands.filterEventData(gd,data,\\\"selected\\\"); return !(filtered_data.isnil) ? (WebIO.setval({\\\"name\\\":\\\"selected\\\",\\\"scope\\\":\\\"11717175327429787122\\\",\\\"id\\\":\\\"16290765750413996481\\\",\\\"type\\\":\\\"observable\\\"},filtered_data.out)) : undefined})); gd.on(\\\"plotly_deselect\\\",(function (){return WebIO.setval({\\\"name\\\":\\\"selected\\\",\\\"scope\\\":\\\"11717175327429787122\\\",\\\"id\\\":\\\"16290765750413996481\\\",\\\"type\\\":\\\"observable\\\"},{})})); gd.on(\\\"plotly_relayout\\\",(function (data){var filtered_data=WebIO.PlotlyCommands.filterEventData(gd,data,\\\"relayout\\\"); return !(filtered_data.isnil) ? (WebIO.setval({\\\"name\\\":\\\"relayout\\\",\\\"scope\\\":\\\"11717175327429787122\\\",\\\"id\\\":\\\"16109971511481455595\\\",\\\"type\\\":\\\"observable\\\"},filtered_data.out)) : undefined})); return gd.on(\\\"plotly_click\\\",(function (data){var filtered_data=WebIO.PlotlyCommands.filterEventData(gd,data,\\\"click\\\"); return !(filtered_data.isnil) ? (WebIO.setval({\\\"name\\\":\\\"click\\\",\\\"scope\\\":\\\"11717175327429787122\\\",\\\"id\\\":\\\"10785656755816402201\\\",\\\"type\\\":\\\"observable\\\"},filtered_data.out)) : undefined}))}));\\n    (WebIO.importBlock({\\\"data\\\":[{\\\"name\\\":\\\"Plotly\\\",\\\"type\\\":\\\"js\\\",\\\"url\\\":\\\"\\/assetserver\\/b3a562c629e4214a506d0182e45e3c09deead92f-plotly-latest.min.js\\\"},{\\\"name\\\":null,\\\"type\\\":\\\"js\\\",\\\"url\\\":\\\"\\/assetserver\\/6abd48d41ff55cbb816dd18213c29492a550b0d0-plotly_webio.bundle.js\\\"}],\\\"type\\\":\\\"async_block\\\"})).then((imports) => handler.apply(this, imports));\\n}\\n\"],\"observables\":{\"_toImage\":{\"sync\":false,\"id\":\"16497255271157180581\",\"value\":{}},\"hover\":{\"sync\":false,\"id\":\"13686701640692774984\",\"value\":{}},\"selected\":{\"sync\":false,\"id\":\"16290765750413996481\",\"value\":{}},\"__gd_contents\":{\"sync\":false,\"id\":\"8428325112772458334\",\"value\":{}},\"click\":{\"sync\":false,\"id\":\"10785656755816402201\",\"value\":{}},\"image\":{\"sync\":true,\"id\":\"11496020889941823090\",\"value\":\"\"},\"__get_gd_contents\":{\"sync\":false,\"id\":\"15606561486859332131\",\"value\":\"\"},\"_downloadImage\":{\"sync\":false,\"id\":\"2192963321932263777\",\"value\":{}},\"relayout\":{\"sync\":false,\"id\":\"16109971511481455595\",\"value\":{}},\"_commands\":{\"sync\":false,\"id\":\"2179274045677915059\",\"value\":[]}}},\"children\":[{\"props\":{\"id\":\"plot-87e2f3bb-f64c-4e16-adf2-6261e34910e6\"},\"nodeType\":\"DOM\",\"type\":\"node\",\"instanceArgs\":{\"namespace\":\"html\",\"tag\":\"div\"},\"children\":[]}]},\n",
       "            window,\n",
       "        );\n",
       "    } else {\n",
       "        document\n",
       "            .querySelector('[data-webio-mountpoint=\"12534188885490077926\"]')\n",
       "            .innerHTML = (\n",
       "                '<div style=\"padding: 1em; background-color: #f8d6da; border: 1px solid #f5c6cb\">' +\n",
       "                '<p><strong>WebIO not detected.</strong></p>' +\n",
       "                '<p>Please read ' +\n",
       "                '<a href=\"https://juliagizmos.github.io/WebIO.jl/latest/troubleshooting/not-detected/\" target=\"_blank\">the troubleshooting guide</a> ' +\n",
       "                'for more information on how to resolve this issue.</p>' +\n",
       "                '<p><a href=\"https://juliagizmos.github.io/WebIO.jl/latest/troubleshooting/not-detected/\" target=\"_blank\">https://juliagizmos.github.io/WebIO.jl/latest/troubleshooting/not-detected/</a></p>' +\n",
       "                '</div>'\n",
       "            );\n",
       "    }\n",
       "    </script>\n",
       "</div>\n"
      ],
      "text/plain": [
       "data: [\n",
       "  \"scatter with fields hoverinfo, marker, mode, text, textfont, textposition, type, x, and y\",\n",
       "  \"scatter with fields hoverinfo, marker, mode, text, textfont, textposition, type, x, and y\"\n",
       "]\n",
       "\n",
       "layout: \"layout with fields height, hovermode, margin, scene, showlegend, and width\"\n",
       "\n"
      ]
     },
     "execution_count": 6,
     "metadata": {
      "application/vnd.webio.node+json": {
       "kernelId": "1ca01b33-c989-42b8-9947-596bc8b2c1e5"
      }
     },
     "output_type": "execute_result"
    }
   ],
   "source": [
    "plotpersistencediagram_pjs(C,dim=1)\n"
   ]
  },
  {
   "cell_type": "code",
   "execution_count": 19,
   "metadata": {},
   "outputs": [
    {
     "name": "stderr",
     "output_type": "stream",
     "text": [
      "┌ Info: Precompiling Plots [91a5bcdd-55d7-5caf-9e0b-520d859cae80]\n",
      "└ @ Base loading.jl:1260\n"
     ]
    },
    {
     "data": {
      "image/svg+xml": [
       "<?xml version=\"1.0\" encoding=\"utf-8\"?>\n",
       "<svg xmlns=\"http://www.w3.org/2000/svg\" xmlns:xlink=\"http://www.w3.org/1999/xlink\" width=\"600\" height=\"400\" viewBox=\"0 0 2400 1600\">\n",
       "<defs>\n",
       "  <clipPath id=\"clip080\">\n",
       "    <rect x=\"0\" y=\"0\" width=\"2400\" height=\"1600\"/>\n",
       "  </clipPath>\n",
       "</defs>\n",
       "<path clip-path=\"url(#clip080)\" d=\"\n",
       "M0 1600 L2400 1600 L2400 0 L0 0  Z\n",
       "  \" fill=\"#ffffff\" fill-rule=\"evenodd\" fill-opacity=\"1\"/>\n",
       "<defs>\n",
       "  <clipPath id=\"clip081\">\n",
       "    <rect x=\"480\" y=\"0\" width=\"1681\" height=\"1600\"/>\n",
       "  </clipPath>\n",
       "</defs>\n",
       "<path clip-path=\"url(#clip080)\" d=\"\n",
       "M190.788 1486.45 L2352.76 1486.45 L2352.76 47.2441 L190.788 47.2441  Z\n",
       "  \" fill=\"#ffffff\" fill-rule=\"evenodd\" fill-opacity=\"1\"/>\n",
       "<defs>\n",
       "  <clipPath id=\"clip082\">\n",
       "    <rect x=\"190\" y=\"47\" width=\"2163\" height=\"1440\"/>\n",
       "  </clipPath>\n",
       "</defs>\n",
       "<polyline clip-path=\"url(#clip082)\" style=\"stroke:#000000; stroke-width:2; stroke-opacity:0.1; fill:none\" points=\"\n",
       "  309.7,1486.45 309.7,47.2441 \n",
       "  \"/>\n",
       "<polyline clip-path=\"url(#clip082)\" style=\"stroke:#000000; stroke-width:2; stroke-opacity:0.1; fill:none\" points=\"\n",
       "  767.829,1486.45 767.829,47.2441 \n",
       "  \"/>\n",
       "<polyline clip-path=\"url(#clip082)\" style=\"stroke:#000000; stroke-width:2; stroke-opacity:0.1; fill:none\" points=\"\n",
       "  1225.96,1486.45 1225.96,47.2441 \n",
       "  \"/>\n",
       "<polyline clip-path=\"url(#clip082)\" style=\"stroke:#000000; stroke-width:2; stroke-opacity:0.1; fill:none\" points=\"\n",
       "  1684.09,1486.45 1684.09,47.2441 \n",
       "  \"/>\n",
       "<polyline clip-path=\"url(#clip082)\" style=\"stroke:#000000; stroke-width:2; stroke-opacity:0.1; fill:none\" points=\"\n",
       "  2142.22,1486.45 2142.22,47.2441 \n",
       "  \"/>\n",
       "<polyline clip-path=\"url(#clip080)\" style=\"stroke:#000000; stroke-width:4; stroke-opacity:1; fill:none\" points=\"\n",
       "  190.788,1486.45 2352.76,1486.45 \n",
       "  \"/>\n",
       "<polyline clip-path=\"url(#clip080)\" style=\"stroke:#000000; stroke-width:4; stroke-opacity:1; fill:none\" points=\"\n",
       "  309.7,1486.45 309.7,1469.18 \n",
       "  \"/>\n",
       "<polyline clip-path=\"url(#clip080)\" style=\"stroke:#000000; stroke-width:4; stroke-opacity:1; fill:none\" points=\"\n",
       "  767.829,1486.45 767.829,1469.18 \n",
       "  \"/>\n",
       "<polyline clip-path=\"url(#clip080)\" style=\"stroke:#000000; stroke-width:4; stroke-opacity:1; fill:none\" points=\"\n",
       "  1225.96,1486.45 1225.96,1469.18 \n",
       "  \"/>\n",
       "<polyline clip-path=\"url(#clip080)\" style=\"stroke:#000000; stroke-width:4; stroke-opacity:1; fill:none\" points=\"\n",
       "  1684.09,1486.45 1684.09,1469.18 \n",
       "  \"/>\n",
       "<polyline clip-path=\"url(#clip080)\" style=\"stroke:#000000; stroke-width:4; stroke-opacity:1; fill:none\" points=\"\n",
       "  2142.22,1486.45 2142.22,1469.18 \n",
       "  \"/>\n",
       "<path clip-path=\"url(#clip080)\" d=\"M 0 0 M277.709 1515.64 Q274.098 1515.64 272.27 1519.2 Q270.464 1522.75 270.464 1529.87 Q270.464 1536.98 272.27 1540.55 Q274.098 1544.09 277.709 1544.09 Q281.344 1544.09 283.149 1540.55 Q284.978 1536.98 284.978 1529.87 Q284.978 1522.75 283.149 1519.2 Q281.344 1515.64 277.709 1515.64 M277.709 1511.93 Q283.52 1511.93 286.575 1516.54 Q289.654 1521.12 289.654 1529.87 Q289.654 1538.6 286.575 1543.21 Q283.52 1547.79 277.709 1547.79 Q271.899 1547.79 268.821 1543.21 Q265.765 1538.6 265.765 1529.87 Q265.765 1521.12 268.821 1516.54 Q271.899 1511.93 277.709 1511.93 Z\" fill=\"#000000\" fill-rule=\"evenodd\" fill-opacity=\"1\" /><path clip-path=\"url(#clip080)\" d=\"M 0 0 M294.723 1541.24 L299.607 1541.24 L299.607 1547.12 L294.723 1547.12 L294.723 1541.24 Z\" fill=\"#000000\" fill-rule=\"evenodd\" fill-opacity=\"1\" /><path clip-path=\"url(#clip080)\" d=\"M 0 0 M314.677 1515.64 Q311.066 1515.64 309.237 1519.2 Q307.431 1522.75 307.431 1529.87 Q307.431 1536.98 309.237 1540.55 Q311.066 1544.09 314.677 1544.09 Q318.311 1544.09 320.117 1540.55 Q321.945 1536.98 321.945 1529.87 Q321.945 1522.75 320.117 1519.2 Q318.311 1515.64 314.677 1515.64 M314.677 1511.93 Q320.487 1511.93 323.542 1516.54 Q326.621 1521.12 326.621 1529.87 Q326.621 1538.6 323.542 1543.21 Q320.487 1547.79 314.677 1547.79 Q308.867 1547.79 305.788 1543.21 Q302.732 1538.6 302.732 1529.87 Q302.732 1521.12 305.788 1516.54 Q308.867 1511.93 314.677 1511.93 Z\" fill=\"#000000\" fill-rule=\"evenodd\" fill-opacity=\"1\" /><path clip-path=\"url(#clip080)\" d=\"M 0 0 M341.691 1515.64 Q338.079 1515.64 336.251 1519.2 Q334.445 1522.75 334.445 1529.87 Q334.445 1536.98 336.251 1540.55 Q338.079 1544.09 341.691 1544.09 Q345.325 1544.09 347.13 1540.55 Q348.959 1536.98 348.959 1529.87 Q348.959 1522.75 347.13 1519.2 Q345.325 1515.64 341.691 1515.64 M341.691 1511.93 Q347.501 1511.93 350.556 1516.54 Q353.635 1521.12 353.635 1529.87 Q353.635 1538.6 350.556 1543.21 Q347.501 1547.79 341.691 1547.79 Q335.88 1547.79 332.802 1543.21 Q329.746 1538.6 329.746 1529.87 Q329.746 1521.12 332.802 1516.54 Q335.88 1511.93 341.691 1511.93 Z\" fill=\"#000000\" fill-rule=\"evenodd\" fill-opacity=\"1\" /><path clip-path=\"url(#clip080)\" d=\"M 0 0 M737.135 1515.64 Q733.524 1515.64 731.695 1519.2 Q729.89 1522.75 729.89 1529.87 Q729.89 1536.98 731.695 1540.55 Q733.524 1544.09 737.135 1544.09 Q740.769 1544.09 742.575 1540.55 Q744.404 1536.98 744.404 1529.87 Q744.404 1522.75 742.575 1519.2 Q740.769 1515.64 737.135 1515.64 M737.135 1511.93 Q742.945 1511.93 746.001 1516.54 Q749.08 1521.12 749.08 1529.87 Q749.08 1538.6 746.001 1543.21 Q742.945 1547.79 737.135 1547.79 Q731.325 1547.79 728.246 1543.21 Q725.191 1538.6 725.191 1529.87 Q725.191 1521.12 728.246 1516.54 Q731.325 1511.93 737.135 1511.93 Z\" fill=\"#000000\" fill-rule=\"evenodd\" fill-opacity=\"1\" /><path clip-path=\"url(#clip080)\" d=\"M 0 0 M754.149 1541.24 L759.033 1541.24 L759.033 1547.12 L754.149 1547.12 L754.149 1541.24 Z\" fill=\"#000000\" fill-rule=\"evenodd\" fill-opacity=\"1\" /><path clip-path=\"url(#clip080)\" d=\"M 0 0 M768.13 1543.18 L784.45 1543.18 L784.45 1547.12 L762.505 1547.12 L762.505 1543.18 Q765.167 1540.43 769.751 1535.8 Q774.357 1531.15 775.538 1529.81 Q777.783 1527.28 778.663 1525.55 Q779.565 1523.79 779.565 1522.1 Q779.565 1519.34 777.621 1517.61 Q775.7 1515.87 772.598 1515.87 Q770.399 1515.87 767.945 1516.63 Q765.515 1517.4 762.737 1518.95 L762.737 1514.23 Q765.561 1513.09 768.015 1512.51 Q770.468 1511.93 772.505 1511.93 Q777.876 1511.93 781.07 1514.62 Q784.265 1517.31 784.265 1521.8 Q784.265 1523.93 783.454 1525.85 Q782.667 1527.74 780.561 1530.34 Q779.982 1531.01 776.88 1534.23 Q773.778 1537.42 768.13 1543.18 Z\" fill=\"#000000\" fill-rule=\"evenodd\" fill-opacity=\"1\" /><path clip-path=\"url(#clip080)\" d=\"M 0 0 M789.565 1512.56 L807.922 1512.56 L807.922 1516.5 L793.848 1516.5 L793.848 1524.97 Q794.866 1524.62 795.885 1524.46 Q796.903 1524.27 797.922 1524.27 Q803.709 1524.27 807.088 1527.44 Q810.468 1530.62 810.468 1536.03 Q810.468 1541.61 806.996 1544.71 Q803.524 1547.79 797.204 1547.79 Q795.028 1547.79 792.76 1547.42 Q790.515 1547.05 788.107 1546.31 L788.107 1541.61 Q790.19 1542.74 792.413 1543.3 Q794.635 1543.86 797.112 1543.86 Q801.116 1543.86 803.454 1541.75 Q805.792 1539.64 805.792 1536.03 Q805.792 1532.42 803.454 1530.31 Q801.116 1528.21 797.112 1528.21 Q795.237 1528.21 793.362 1528.62 Q791.51 1529.04 789.565 1529.92 L789.565 1512.56 Z\" fill=\"#000000\" fill-rule=\"evenodd\" fill-opacity=\"1\" /><path clip-path=\"url(#clip080)\" d=\"M 0 0 M1194.47 1515.64 Q1190.85 1515.64 1189.03 1519.2 Q1187.22 1522.75 1187.22 1529.87 Q1187.22 1536.98 1189.03 1540.55 Q1190.85 1544.09 1194.47 1544.09 Q1198.1 1544.09 1199.91 1540.55 Q1201.73 1536.98 1201.73 1529.87 Q1201.73 1522.75 1199.91 1519.2 Q1198.1 1515.64 1194.47 1515.64 M1194.47 1511.93 Q1200.28 1511.93 1203.33 1516.54 Q1206.41 1521.12 1206.41 1529.87 Q1206.41 1538.6 1203.33 1543.21 Q1200.28 1547.79 1194.47 1547.79 Q1188.66 1547.79 1185.58 1543.21 Q1182.52 1538.6 1182.52 1529.87 Q1182.52 1521.12 1185.58 1516.54 Q1188.66 1511.93 1194.47 1511.93 Z\" fill=\"#000000\" fill-rule=\"evenodd\" fill-opacity=\"1\" /><path clip-path=\"url(#clip080)\" d=\"M 0 0 M1211.48 1541.24 L1216.36 1541.24 L1216.36 1547.12 L1211.48 1547.12 L1211.48 1541.24 Z\" fill=\"#000000\" fill-rule=\"evenodd\" fill-opacity=\"1\" /><path clip-path=\"url(#clip080)\" d=\"M 0 0 M1221.48 1512.56 L1239.84 1512.56 L1239.84 1516.5 L1225.76 1516.5 L1225.76 1524.97 Q1226.78 1524.62 1227.8 1524.46 Q1228.82 1524.27 1229.84 1524.27 Q1235.62 1524.27 1239 1527.44 Q1242.38 1530.62 1242.38 1536.03 Q1242.38 1541.61 1238.91 1544.71 Q1235.44 1547.79 1229.12 1547.79 Q1226.94 1547.79 1224.67 1547.42 Q1222.43 1547.05 1220.02 1546.31 L1220.02 1541.61 Q1222.1 1542.74 1224.33 1543.3 Q1226.55 1543.86 1229.03 1543.86 Q1233.03 1543.86 1235.37 1541.75 Q1237.71 1539.64 1237.71 1536.03 Q1237.71 1532.42 1235.37 1530.31 Q1233.03 1528.21 1229.03 1528.21 Q1227.15 1528.21 1225.28 1528.62 Q1223.42 1529.04 1221.48 1529.92 L1221.48 1512.56 Z\" fill=\"#000000\" fill-rule=\"evenodd\" fill-opacity=\"1\" /><path clip-path=\"url(#clip080)\" d=\"M 0 0 M1257.45 1515.64 Q1253.84 1515.64 1252.01 1519.2 Q1250.21 1522.75 1250.21 1529.87 Q1250.21 1536.98 1252.01 1540.55 Q1253.84 1544.09 1257.45 1544.09 Q1261.09 1544.09 1262.89 1540.55 Q1264.72 1536.98 1264.72 1529.87 Q1264.72 1522.75 1262.89 1519.2 Q1261.09 1515.64 1257.45 1515.64 M1257.45 1511.93 Q1263.26 1511.93 1266.32 1516.54 Q1269.4 1521.12 1269.4 1529.87 Q1269.4 1538.6 1266.32 1543.21 Q1263.26 1547.79 1257.45 1547.79 Q1251.64 1547.79 1248.56 1543.21 Q1245.51 1538.6 1245.51 1529.87 Q1245.51 1521.12 1248.56 1516.54 Q1251.64 1511.93 1257.45 1511.93 Z\" fill=\"#000000\" fill-rule=\"evenodd\" fill-opacity=\"1\" /><path clip-path=\"url(#clip080)\" d=\"M 0 0 M1653.05 1515.64 Q1649.44 1515.64 1647.61 1519.2 Q1645.8 1522.75 1645.8 1529.87 Q1645.8 1536.98 1647.61 1540.55 Q1649.44 1544.09 1653.05 1544.09 Q1656.68 1544.09 1658.49 1540.55 Q1660.32 1536.98 1660.32 1529.87 Q1660.32 1522.75 1658.49 1519.2 Q1656.68 1515.64 1653.05 1515.64 M1653.05 1511.93 Q1658.86 1511.93 1661.91 1516.54 Q1664.99 1521.12 1664.99 1529.87 Q1664.99 1538.6 1661.91 1543.21 Q1658.86 1547.79 1653.05 1547.79 Q1647.24 1547.79 1644.16 1543.21 Q1641.1 1538.6 1641.1 1529.87 Q1641.1 1521.12 1644.16 1516.54 Q1647.24 1511.93 1653.05 1511.93 Z\" fill=\"#000000\" fill-rule=\"evenodd\" fill-opacity=\"1\" /><path clip-path=\"url(#clip080)\" d=\"M 0 0 M1670.06 1541.24 L1674.94 1541.24 L1674.94 1547.12 L1670.06 1547.12 L1670.06 1541.24 Z\" fill=\"#000000\" fill-rule=\"evenodd\" fill-opacity=\"1\" /><path clip-path=\"url(#clip080)\" d=\"M 0 0 M1678.83 1512.56 L1701.06 1512.56 L1701.06 1514.55 L1688.51 1547.12 L1683.63 1547.12 L1695.43 1516.5 L1678.83 1516.5 L1678.83 1512.56 Z\" fill=\"#000000\" fill-rule=\"evenodd\" fill-opacity=\"1\" /><path clip-path=\"url(#clip080)\" d=\"M 0 0 M1706.17 1512.56 L1724.53 1512.56 L1724.53 1516.5 L1710.45 1516.5 L1710.45 1524.97 Q1711.47 1524.62 1712.49 1524.46 Q1713.51 1524.27 1714.53 1524.27 Q1720.32 1524.27 1723.69 1527.44 Q1727.07 1530.62 1727.07 1536.03 Q1727.07 1541.61 1723.6 1544.71 Q1720.13 1547.79 1713.81 1547.79 Q1711.63 1547.79 1709.37 1547.42 Q1707.12 1547.05 1704.71 1546.31 L1704.71 1541.61 Q1706.8 1542.74 1709.02 1543.3 Q1711.24 1543.86 1713.72 1543.86 Q1717.72 1543.86 1720.06 1541.75 Q1722.4 1539.64 1722.4 1536.03 Q1722.4 1532.42 1720.06 1530.31 Q1717.72 1528.21 1713.72 1528.21 Q1711.84 1528.21 1709.97 1528.62 Q1708.12 1529.04 1706.17 1529.92 L1706.17 1512.56 Z\" fill=\"#000000\" fill-rule=\"evenodd\" fill-opacity=\"1\" /><path clip-path=\"url(#clip080)\" d=\"M 0 0 M2100.61 1543.18 L2108.25 1543.18 L2108.25 1516.82 L2099.94 1518.49 L2099.94 1514.23 L2108.2 1512.56 L2112.88 1512.56 L2112.88 1543.18 L2120.52 1543.18 L2120.52 1547.12 L2100.61 1547.12 L2100.61 1543.18 Z\" fill=\"#000000\" fill-rule=\"evenodd\" fill-opacity=\"1\" /><path clip-path=\"url(#clip080)\" d=\"M 0 0 M2125.59 1541.24 L2130.47 1541.24 L2130.47 1547.12 L2125.59 1547.12 L2125.59 1541.24 Z\" fill=\"#000000\" fill-rule=\"evenodd\" fill-opacity=\"1\" /><path clip-path=\"url(#clip080)\" d=\"M 0 0 M2145.54 1515.64 Q2141.93 1515.64 2140.1 1519.2 Q2138.29 1522.75 2138.29 1529.87 Q2138.29 1536.98 2140.1 1540.55 Q2141.93 1544.09 2145.54 1544.09 Q2149.17 1544.09 2150.98 1540.55 Q2152.81 1536.98 2152.81 1529.87 Q2152.81 1522.75 2150.98 1519.2 Q2149.17 1515.64 2145.54 1515.64 M2145.54 1511.93 Q2151.35 1511.93 2154.41 1516.54 Q2157.48 1521.12 2157.48 1529.87 Q2157.48 1538.6 2154.41 1543.21 Q2151.35 1547.79 2145.54 1547.79 Q2139.73 1547.79 2136.65 1543.21 Q2133.6 1538.6 2133.6 1529.87 Q2133.6 1521.12 2136.65 1516.54 Q2139.73 1511.93 2145.54 1511.93 Z\" fill=\"#000000\" fill-rule=\"evenodd\" fill-opacity=\"1\" /><path clip-path=\"url(#clip080)\" d=\"M 0 0 M2172.55 1515.64 Q2168.94 1515.64 2167.11 1519.2 Q2165.31 1522.75 2165.31 1529.87 Q2165.31 1536.98 2167.11 1540.55 Q2168.94 1544.09 2172.55 1544.09 Q2176.19 1544.09 2177.99 1540.55 Q2179.82 1536.98 2179.82 1529.87 Q2179.82 1522.75 2177.99 1519.2 Q2176.19 1515.64 2172.55 1515.64 M2172.55 1511.93 Q2178.36 1511.93 2181.42 1516.54 Q2184.5 1521.12 2184.5 1529.87 Q2184.5 1538.6 2181.42 1543.21 Q2178.36 1547.79 2172.55 1547.79 Q2166.74 1547.79 2163.66 1543.21 Q2160.61 1538.6 2160.61 1529.87 Q2160.61 1521.12 2163.66 1516.54 Q2166.74 1511.93 2172.55 1511.93 Z\" fill=\"#000000\" fill-rule=\"evenodd\" fill-opacity=\"1\" /><polyline clip-path=\"url(#clip082)\" style=\"stroke:#000000; stroke-width:2; stroke-opacity:0.1; fill:none\" points=\"\n",
       "  190.788,1445.72 2352.76,1445.72 \n",
       "  \"/>\n",
       "<polyline clip-path=\"url(#clip082)\" style=\"stroke:#000000; stroke-width:2; stroke-opacity:0.1; fill:none\" points=\"\n",
       "  190.788,1022.22 2352.76,1022.22 \n",
       "  \"/>\n",
       "<polyline clip-path=\"url(#clip082)\" style=\"stroke:#000000; stroke-width:2; stroke-opacity:0.1; fill:none\" points=\"\n",
       "  190.788,598.717 2352.76,598.717 \n",
       "  \"/>\n",
       "<polyline clip-path=\"url(#clip082)\" style=\"stroke:#000000; stroke-width:2; stroke-opacity:0.1; fill:none\" points=\"\n",
       "  190.788,175.217 2352.76,175.217 \n",
       "  \"/>\n",
       "<polyline clip-path=\"url(#clip080)\" style=\"stroke:#000000; stroke-width:4; stroke-opacity:1; fill:none\" points=\"\n",
       "  190.788,1486.45 190.788,47.2441 \n",
       "  \"/>\n",
       "<polyline clip-path=\"url(#clip080)\" style=\"stroke:#000000; stroke-width:4; stroke-opacity:1; fill:none\" points=\"\n",
       "  190.788,1445.72 216.731,1445.72 \n",
       "  \"/>\n",
       "<polyline clip-path=\"url(#clip080)\" style=\"stroke:#000000; stroke-width:4; stroke-opacity:1; fill:none\" points=\"\n",
       "  190.788,1022.22 216.731,1022.22 \n",
       "  \"/>\n",
       "<polyline clip-path=\"url(#clip080)\" style=\"stroke:#000000; stroke-width:4; stroke-opacity:1; fill:none\" points=\"\n",
       "  190.788,598.717 216.731,598.717 \n",
       "  \"/>\n",
       "<polyline clip-path=\"url(#clip080)\" style=\"stroke:#000000; stroke-width:4; stroke-opacity:1; fill:none\" points=\"\n",
       "  190.788,175.217 216.731,175.217 \n",
       "  \"/>\n",
       "<path clip-path=\"url(#clip080)\" d=\"M 0 0 M142.843 1431.51 Q139.232 1431.51 137.404 1435.08 Q135.598 1438.62 135.598 1445.75 Q135.598 1452.86 137.404 1456.42 Q139.232 1459.96 142.843 1459.96 Q146.478 1459.96 148.283 1456.42 Q150.112 1452.86 150.112 1445.75 Q150.112 1438.62 148.283 1435.08 Q146.478 1431.51 142.843 1431.51 M142.843 1427.81 Q148.654 1427.81 151.709 1432.42 Q154.788 1437 154.788 1445.75 Q154.788 1454.48 151.709 1459.08 Q148.654 1463.67 142.843 1463.67 Q137.033 1463.67 133.955 1459.08 Q130.899 1454.48 130.899 1445.75 Q130.899 1437 133.955 1432.42 Q137.033 1427.81 142.843 1427.81 Z\" fill=\"#000000\" fill-rule=\"evenodd\" fill-opacity=\"1\" /><path clip-path=\"url(#clip080)\" d=\"M 0 0 M53.8393 1035.56 L61.4782 1035.56 L61.4782 1009.2 L53.168 1010.86 L53.168 1006.6 L61.4319 1004.94 L66.1078 1004.94 L66.1078 1035.56 L73.7466 1035.56 L73.7466 1039.5 L53.8393 1039.5 L53.8393 1035.56 Z\" fill=\"#000000\" fill-rule=\"evenodd\" fill-opacity=\"1\" /><path clip-path=\"url(#clip080)\" d=\"M 0 0 M88.816 1008.01 Q85.2049 1008.01 83.3762 1011.58 Q81.5707 1015.12 81.5707 1022.25 Q81.5707 1029.36 83.3762 1032.92 Q85.2049 1036.46 88.816 1036.46 Q92.4502 1036.46 94.2558 1032.92 Q96.0845 1029.36 96.0845 1022.25 Q96.0845 1015.12 94.2558 1011.58 Q92.4502 1008.01 88.816 1008.01 M88.816 1004.31 Q94.6262 1004.31 97.6817 1008.92 Q100.76 1013.5 100.76 1022.25 Q100.76 1030.98 97.6817 1035.58 Q94.6262 1040.17 88.816 1040.17 Q83.0058 1040.17 79.9272 1035.58 Q76.8716 1030.98 76.8716 1022.25 Q76.8716 1013.5 79.9272 1008.92 Q83.0058 1004.31 88.816 1004.31 Z\" fill=\"#000000\" fill-rule=\"evenodd\" fill-opacity=\"1\" /><path clip-path=\"url(#clip080)\" d=\"M 0 0 M115.83 1008.01 Q112.219 1008.01 110.39 1011.58 Q108.584 1015.12 108.584 1022.25 Q108.584 1029.36 110.39 1032.92 Q112.219 1036.46 115.83 1036.46 Q119.464 1036.46 121.27 1032.92 Q123.098 1029.36 123.098 1022.25 Q123.098 1015.12 121.27 1011.58 Q119.464 1008.01 115.83 1008.01 M115.83 1004.31 Q121.64 1004.31 124.695 1008.92 Q127.774 1013.5 127.774 1022.25 Q127.774 1030.98 124.695 1035.58 Q121.64 1040.17 115.83 1040.17 Q110.02 1040.17 106.941 1035.58 Q103.885 1030.98 103.885 1022.25 Q103.885 1013.5 106.941 1008.92 Q110.02 1004.31 115.83 1004.31 Z\" fill=\"#000000\" fill-rule=\"evenodd\" fill-opacity=\"1\" /><path clip-path=\"url(#clip080)\" d=\"M 0 0 M142.843 1008.01 Q139.232 1008.01 137.404 1011.58 Q135.598 1015.12 135.598 1022.25 Q135.598 1029.36 137.404 1032.92 Q139.232 1036.46 142.843 1036.46 Q146.478 1036.46 148.283 1032.92 Q150.112 1029.36 150.112 1022.25 Q150.112 1015.12 148.283 1011.58 Q146.478 1008.01 142.843 1008.01 M142.843 1004.31 Q148.654 1004.31 151.709 1008.92 Q154.788 1013.5 154.788 1022.25 Q154.788 1030.98 151.709 1035.58 Q148.654 1040.17 142.843 1040.17 Q137.033 1040.17 133.955 1035.58 Q130.899 1030.98 130.899 1022.25 Q130.899 1013.5 133.955 1008.92 Q137.033 1004.31 142.843 1004.31 Z\" fill=\"#000000\" fill-rule=\"evenodd\" fill-opacity=\"1\" /><path clip-path=\"url(#clip080)\" d=\"M 0 0 M57.4273 612.062 L73.7466 612.062 L73.7466 615.997 L51.8023 615.997 L51.8023 612.062 Q54.4643 609.307 59.0476 604.677 Q63.6541 600.025 64.8346 598.682 Q67.08 596.159 67.9596 594.423 Q68.8624 592.663 68.8624 590.974 Q68.8624 588.219 66.918 586.483 Q64.9967 584.747 61.8948 584.747 Q59.6958 584.747 57.2421 585.511 Q54.8115 586.275 52.0338 587.826 L52.0338 583.103 Q54.8578 581.969 57.3115 581.39 Q59.7652 580.812 61.8023 580.812 Q67.1726 580.812 70.367 583.497 Q73.5614 586.182 73.5614 590.673 Q73.5614 592.802 72.7513 594.724 Q71.9642 596.622 69.8578 599.214 Q69.2791 599.886 66.1772 603.103 Q63.0754 606.298 57.4273 612.062 Z\" fill=\"#000000\" fill-rule=\"evenodd\" fill-opacity=\"1\" /><path clip-path=\"url(#clip080)\" d=\"M 0 0 M88.816 584.515 Q85.2049 584.515 83.3762 588.08 Q81.5707 591.622 81.5707 598.751 Q81.5707 605.858 83.3762 609.423 Q85.2049 612.964 88.816 612.964 Q92.4502 612.964 94.2558 609.423 Q96.0845 605.858 96.0845 598.751 Q96.0845 591.622 94.2558 588.08 Q92.4502 584.515 88.816 584.515 M88.816 580.812 Q94.6262 580.812 97.6817 585.418 Q100.76 590.001 100.76 598.751 Q100.76 607.478 97.6817 612.085 Q94.6262 616.668 88.816 616.668 Q83.0058 616.668 79.9272 612.085 Q76.8716 607.478 76.8716 598.751 Q76.8716 590.001 79.9272 585.418 Q83.0058 580.812 88.816 580.812 Z\" fill=\"#000000\" fill-rule=\"evenodd\" fill-opacity=\"1\" /><path clip-path=\"url(#clip080)\" d=\"M 0 0 M115.83 584.515 Q112.219 584.515 110.39 588.08 Q108.584 591.622 108.584 598.751 Q108.584 605.858 110.39 609.423 Q112.219 612.964 115.83 612.964 Q119.464 612.964 121.27 609.423 Q123.098 605.858 123.098 598.751 Q123.098 591.622 121.27 588.08 Q119.464 584.515 115.83 584.515 M115.83 580.812 Q121.64 580.812 124.695 585.418 Q127.774 590.001 127.774 598.751 Q127.774 607.478 124.695 612.085 Q121.64 616.668 115.83 616.668 Q110.02 616.668 106.941 612.085 Q103.885 607.478 103.885 598.751 Q103.885 590.001 106.941 585.418 Q110.02 580.812 115.83 580.812 Z\" fill=\"#000000\" fill-rule=\"evenodd\" fill-opacity=\"1\" /><path clip-path=\"url(#clip080)\" d=\"M 0 0 M142.843 584.515 Q139.232 584.515 137.404 588.08 Q135.598 591.622 135.598 598.751 Q135.598 605.858 137.404 609.423 Q139.232 612.964 142.843 612.964 Q146.478 612.964 148.283 609.423 Q150.112 605.858 150.112 598.751 Q150.112 591.622 148.283 588.08 Q146.478 584.515 142.843 584.515 M142.843 580.812 Q148.654 580.812 151.709 585.418 Q154.788 590.001 154.788 598.751 Q154.788 607.478 151.709 612.085 Q148.654 616.668 142.843 616.668 Q137.033 616.668 133.955 612.085 Q130.899 607.478 130.899 598.751 Q130.899 590.001 133.955 585.418 Q137.033 580.812 142.843 580.812 Z\" fill=\"#000000\" fill-rule=\"evenodd\" fill-opacity=\"1\" /><path clip-path=\"url(#clip080)\" d=\"M 0 0 M66.617 173.863 Q69.9735 174.581 71.8485 176.849 Q73.7466 179.118 73.7466 182.451 Q73.7466 187.567 70.2281 190.368 Q66.7096 193.168 60.2282 193.168 Q58.0523 193.168 55.7375 192.729 Q53.4458 192.312 50.9921 191.456 L50.9921 186.942 Q52.9366 188.076 55.2514 188.655 Q57.5662 189.233 60.0893 189.233 Q64.4874 189.233 66.7791 187.497 Q69.0939 185.761 69.0939 182.451 Q69.0939 179.395 66.9411 177.682 Q64.8115 175.946 60.9921 175.946 L56.9643 175.946 L56.9643 172.104 L61.1773 172.104 Q64.6263 172.104 66.455 170.738 Q68.2837 169.349 68.2837 166.757 Q68.2837 164.095 66.3856 162.683 Q64.5106 161.247 60.9921 161.247 Q59.0708 161.247 56.8717 161.664 Q54.6727 162.081 52.0338 162.96 L52.0338 158.794 Q54.6958 158.053 57.0106 157.683 Q59.3486 157.312 61.4087 157.312 Q66.7328 157.312 69.8346 159.743 Q72.9365 162.15 72.9365 166.27 Q72.9365 169.141 71.2929 171.132 Q69.6494 173.099 66.617 173.863 Z\" fill=\"#000000\" fill-rule=\"evenodd\" fill-opacity=\"1\" /><path clip-path=\"url(#clip080)\" d=\"M 0 0 M88.816 161.016 Q85.2049 161.016 83.3762 164.581 Q81.5707 168.122 81.5707 175.252 Q81.5707 182.358 83.3762 185.923 Q85.2049 189.465 88.816 189.465 Q92.4502 189.465 94.2558 185.923 Q96.0845 182.358 96.0845 175.252 Q96.0845 168.122 94.2558 164.581 Q92.4502 161.016 88.816 161.016 M88.816 157.312 Q94.6262 157.312 97.6817 161.919 Q100.76 166.502 100.76 175.252 Q100.76 183.979 97.6817 188.585 Q94.6262 193.168 88.816 193.168 Q83.0058 193.168 79.9272 188.585 Q76.8716 183.979 76.8716 175.252 Q76.8716 166.502 79.9272 161.919 Q83.0058 157.312 88.816 157.312 Z\" fill=\"#000000\" fill-rule=\"evenodd\" fill-opacity=\"1\" /><path clip-path=\"url(#clip080)\" d=\"M 0 0 M115.83 161.016 Q112.219 161.016 110.39 164.581 Q108.584 168.122 108.584 175.252 Q108.584 182.358 110.39 185.923 Q112.219 189.465 115.83 189.465 Q119.464 189.465 121.27 185.923 Q123.098 182.358 123.098 175.252 Q123.098 168.122 121.27 164.581 Q119.464 161.016 115.83 161.016 M115.83 157.312 Q121.64 157.312 124.695 161.919 Q127.774 166.502 127.774 175.252 Q127.774 183.979 124.695 188.585 Q121.64 193.168 115.83 193.168 Q110.02 193.168 106.941 188.585 Q103.885 183.979 103.885 175.252 Q103.885 166.502 106.941 161.919 Q110.02 157.312 115.83 157.312 Z\" fill=\"#000000\" fill-rule=\"evenodd\" fill-opacity=\"1\" /><path clip-path=\"url(#clip080)\" d=\"M 0 0 M142.843 161.016 Q139.232 161.016 137.404 164.581 Q135.598 168.122 135.598 175.252 Q135.598 182.358 137.404 185.923 Q139.232 189.465 142.843 189.465 Q146.478 189.465 148.283 185.923 Q150.112 182.358 150.112 175.252 Q150.112 168.122 148.283 164.581 Q146.478 161.016 142.843 161.016 M142.843 157.312 Q148.654 157.312 151.709 161.919 Q154.788 166.502 154.788 175.252 Q154.788 183.979 151.709 188.585 Q148.654 193.168 142.843 193.168 Q137.033 193.168 133.955 188.585 Q130.899 183.979 130.899 175.252 Q130.899 166.502 133.955 161.919 Q137.033 157.312 142.843 157.312 Z\" fill=\"#000000\" fill-rule=\"evenodd\" fill-opacity=\"1\" /><path clip-path=\"url(#clip082)\" d=\"\n",
       "M309.7 1403.37 L309.7 1445.72 L401.326 1445.72 L401.326 1403.37 L309.7 1403.37 L309.7 1403.37  Z\n",
       "  \" fill=\"#009af9\" fill-rule=\"evenodd\" fill-opacity=\"1\"/>\n",
       "<polyline clip-path=\"url(#clip082)\" style=\"stroke:#000000; stroke-width:4; stroke-opacity:1; fill:none\" points=\"\n",
       "  309.7,1403.37 309.7,1445.72 401.326,1445.72 401.326,1403.37 309.7,1403.37 \n",
       "  \"/>\n",
       "<path clip-path=\"url(#clip082)\" d=\"\n",
       "M401.326 1445.72 L401.326 1445.72 L492.952 1445.72 L492.952 1445.72 L401.326 1445.72 L401.326 1445.72  Z\n",
       "  \" fill=\"#009af9\" fill-rule=\"evenodd\" fill-opacity=\"1\"/>\n",
       "<polyline clip-path=\"url(#clip082)\" style=\"stroke:#000000; stroke-width:4; stroke-opacity:1; fill:none\" points=\"\n",
       "  401.326,1445.72 401.326,1445.72 492.952,1445.72 401.326,1445.72 \n",
       "  \"/>\n",
       "<path clip-path=\"url(#clip082)\" d=\"\n",
       "M492.952 1438.09 L492.952 1445.72 L584.578 1445.72 L584.578 1438.09 L492.952 1438.09 L492.952 1438.09  Z\n",
       "  \" fill=\"#009af9\" fill-rule=\"evenodd\" fill-opacity=\"1\"/>\n",
       "<polyline clip-path=\"url(#clip082)\" style=\"stroke:#000000; stroke-width:4; stroke-opacity:1; fill:none\" points=\"\n",
       "  492.952,1438.09 492.952,1445.72 584.578,1445.72 584.578,1438.09 492.952,1438.09 \n",
       "  \"/>\n",
       "<path clip-path=\"url(#clip082)\" d=\"\n",
       "M584.578 1430.47 L584.578 1445.72 L676.204 1445.72 L676.204 1430.47 L584.578 1430.47 L584.578 1430.47  Z\n",
       "  \" fill=\"#009af9\" fill-rule=\"evenodd\" fill-opacity=\"1\"/>\n",
       "<polyline clip-path=\"url(#clip082)\" style=\"stroke:#000000; stroke-width:4; stroke-opacity:1; fill:none\" points=\"\n",
       "  584.578,1430.47 584.578,1445.72 676.204,1445.72 676.204,1430.47 584.578,1430.47 \n",
       "  \"/>\n",
       "<path clip-path=\"url(#clip082)\" d=\"\n",
       "M676.204 1413.53 L676.204 1445.72 L767.829 1445.72 L767.829 1413.53 L676.204 1413.53 L676.204 1413.53  Z\n",
       "  \" fill=\"#009af9\" fill-rule=\"evenodd\" fill-opacity=\"1\"/>\n",
       "<polyline clip-path=\"url(#clip082)\" style=\"stroke:#000000; stroke-width:4; stroke-opacity:1; fill:none\" points=\"\n",
       "  676.204,1413.53 676.204,1445.72 767.829,1445.72 767.829,1413.53 676.204,1413.53 \n",
       "  \"/>\n",
       "<path clip-path=\"url(#clip082)\" d=\"\n",
       "M767.829 1423.69 L767.829 1445.72 L859.455 1445.72 L859.455 1423.69 L767.829 1423.69 L767.829 1423.69  Z\n",
       "  \" fill=\"#009af9\" fill-rule=\"evenodd\" fill-opacity=\"1\"/>\n",
       "<polyline clip-path=\"url(#clip082)\" style=\"stroke:#000000; stroke-width:4; stroke-opacity:1; fill:none\" points=\"\n",
       "  767.829,1423.69 767.829,1445.72 859.455,1445.72 859.455,1423.69 767.829,1423.69 \n",
       "  \"/>\n",
       "<path clip-path=\"url(#clip082)\" d=\"\n",
       "M859.455 1423.69 L859.455 1445.72 L951.081 1445.72 L951.081 1423.69 L859.455 1423.69 L859.455 1423.69  Z\n",
       "  \" fill=\"#009af9\" fill-rule=\"evenodd\" fill-opacity=\"1\"/>\n",
       "<polyline clip-path=\"url(#clip082)\" style=\"stroke:#000000; stroke-width:4; stroke-opacity:1; fill:none\" points=\"\n",
       "  859.455,1423.69 859.455,1445.72 951.081,1445.72 951.081,1423.69 859.455,1423.69 \n",
       "  \"/>\n",
       "<path clip-path=\"url(#clip082)\" d=\"\n",
       "M951.081 1378.8 L951.081 1445.72 L1042.71 1445.72 L1042.71 1378.8 L951.081 1378.8 L951.081 1378.8  Z\n",
       "  \" fill=\"#009af9\" fill-rule=\"evenodd\" fill-opacity=\"1\"/>\n",
       "<polyline clip-path=\"url(#clip082)\" style=\"stroke:#000000; stroke-width:4; stroke-opacity:1; fill:none\" points=\"\n",
       "  951.081,1378.8 951.081,1445.72 1042.71,1445.72 1042.71,1378.8 951.081,1378.8 \n",
       "  \"/>\n",
       "<path clip-path=\"url(#clip082)\" d=\"\n",
       "M1042.71 1318.67 L1042.71 1445.72 L1134.33 1445.72 L1134.33 1318.67 L1042.71 1318.67 L1042.71 1318.67  Z\n",
       "  \" fill=\"#009af9\" fill-rule=\"evenodd\" fill-opacity=\"1\"/>\n",
       "<polyline clip-path=\"url(#clip082)\" style=\"stroke:#000000; stroke-width:4; stroke-opacity:1; fill:none\" points=\"\n",
       "  1042.71,1318.67 1042.71,1445.72 1134.33,1445.72 1134.33,1318.67 1042.71,1318.67 \n",
       "  \"/>\n",
       "<path clip-path=\"url(#clip082)\" d=\"\n",
       "M1134.33 1205.17 L1134.33 1445.72 L1225.96 1445.72 L1225.96 1205.17 L1134.33 1205.17 L1134.33 1205.17  Z\n",
       "  \" fill=\"#009af9\" fill-rule=\"evenodd\" fill-opacity=\"1\"/>\n",
       "<polyline clip-path=\"url(#clip082)\" style=\"stroke:#000000; stroke-width:4; stroke-opacity:1; fill:none\" points=\"\n",
       "  1134.33,1205.17 1134.33,1445.72 1225.96,1445.72 1225.96,1205.17 1134.33,1205.17 \n",
       "  \"/>\n",
       "<path clip-path=\"url(#clip082)\" d=\"\n",
       "M1225.96 1211.1 L1225.96 1445.72 L1317.58 1445.72 L1317.58 1211.1 L1225.96 1211.1 L1225.96 1211.1  Z\n",
       "  \" fill=\"#009af9\" fill-rule=\"evenodd\" fill-opacity=\"1\"/>\n",
       "<polyline clip-path=\"url(#clip082)\" style=\"stroke:#000000; stroke-width:4; stroke-opacity:1; fill:none\" points=\"\n",
       "  1225.96,1211.1 1225.96,1445.72 1317.58,1445.72 1317.58,1211.1 1225.96,1211.1 \n",
       "  \"/>\n",
       "<path clip-path=\"url(#clip082)\" d=\"\n",
       "M1317.58 1187.38 L1317.58 1445.72 L1409.21 1445.72 L1409.21 1187.38 L1317.58 1187.38 L1317.58 1187.38  Z\n",
       "  \" fill=\"#009af9\" fill-rule=\"evenodd\" fill-opacity=\"1\"/>\n",
       "<polyline clip-path=\"url(#clip082)\" style=\"stroke:#000000; stroke-width:4; stroke-opacity:1; fill:none\" points=\"\n",
       "  1317.58,1187.38 1317.58,1445.72 1409.21,1445.72 1409.21,1187.38 1317.58,1187.38 \n",
       "  \"/>\n",
       "<path clip-path=\"url(#clip082)\" d=\"\n",
       "M1409.21 1165.36 L1409.21 1445.72 L1500.84 1445.72 L1500.84 1165.36 L1409.21 1165.36 L1409.21 1165.36  Z\n",
       "  \" fill=\"#009af9\" fill-rule=\"evenodd\" fill-opacity=\"1\"/>\n",
       "<polyline clip-path=\"url(#clip082)\" style=\"stroke:#000000; stroke-width:4; stroke-opacity:1; fill:none\" points=\"\n",
       "  1409.21,1165.36 1409.21,1445.72 1500.84,1445.72 1500.84,1165.36 1409.21,1165.36 \n",
       "  \"/>\n",
       "<path clip-path=\"url(#clip082)\" d=\"\n",
       "M1500.84 1138.26 L1500.84 1445.72 L1592.46 1445.72 L1592.46 1138.26 L1500.84 1138.26 L1500.84 1138.26  Z\n",
       "  \" fill=\"#009af9\" fill-rule=\"evenodd\" fill-opacity=\"1\"/>\n",
       "<polyline clip-path=\"url(#clip082)\" style=\"stroke:#000000; stroke-width:4; stroke-opacity:1; fill:none\" points=\"\n",
       "  1500.84,1138.26 1500.84,1445.72 1592.46,1445.72 1592.46,1138.26 1500.84,1138.26 \n",
       "  \"/>\n",
       "<path clip-path=\"url(#clip082)\" d=\"\n",
       "M1592.46 1092.52 L1592.46 1445.72 L1684.09 1445.72 L1684.09 1092.52 L1592.46 1092.52 L1592.46 1092.52  Z\n",
       "  \" fill=\"#009af9\" fill-rule=\"evenodd\" fill-opacity=\"1\"/>\n",
       "<polyline clip-path=\"url(#clip082)\" style=\"stroke:#000000; stroke-width:4; stroke-opacity:1; fill:none\" points=\"\n",
       "  1592.46,1092.52 1592.46,1445.72 1684.09,1445.72 1684.09,1092.52 1592.46,1092.52 \n",
       "  \"/>\n",
       "<path clip-path=\"url(#clip082)\" d=\"\n",
       "M1684.09 1099.29 L1684.09 1445.72 L1775.71 1445.72 L1775.71 1099.29 L1684.09 1099.29 L1684.09 1099.29  Z\n",
       "  \" fill=\"#009af9\" fill-rule=\"evenodd\" fill-opacity=\"1\"/>\n",
       "<polyline clip-path=\"url(#clip082)\" style=\"stroke:#000000; stroke-width:4; stroke-opacity:1; fill:none\" points=\"\n",
       "  1684.09,1099.29 1684.09,1445.72 1775.71,1445.72 1775.71,1099.29 1684.09,1099.29 \n",
       "  \"/>\n",
       "<path clip-path=\"url(#clip082)\" d=\"\n",
       "M1775.71 1195.85 L1775.71 1445.72 L1867.34 1445.72 L1867.34 1195.85 L1775.71 1195.85 L1775.71 1195.85  Z\n",
       "  \" fill=\"#009af9\" fill-rule=\"evenodd\" fill-opacity=\"1\"/>\n",
       "<polyline clip-path=\"url(#clip082)\" style=\"stroke:#000000; stroke-width:4; stroke-opacity:1; fill:none\" points=\"\n",
       "  1775.71,1195.85 1775.71,1445.72 1867.34,1445.72 1867.34,1195.85 1775.71,1195.85 \n",
       "  \"/>\n",
       "<path clip-path=\"url(#clip082)\" d=\"\n",
       "M1867.34 1262.76 L1867.34 1445.72 L1958.97 1445.72 L1958.97 1262.76 L1867.34 1262.76 L1867.34 1262.76  Z\n",
       "  \" fill=\"#009af9\" fill-rule=\"evenodd\" fill-opacity=\"1\"/>\n",
       "<polyline clip-path=\"url(#clip082)\" style=\"stroke:#000000; stroke-width:4; stroke-opacity:1; fill:none\" points=\"\n",
       "  1867.34,1262.76 1867.34,1445.72 1958.97,1445.72 1958.97,1262.76 1867.34,1262.76 \n",
       "  \"/>\n",
       "<path clip-path=\"url(#clip082)\" d=\"\n",
       "M1958.97 1372.87 L1958.97 1445.72 L2050.59 1445.72 L2050.59 1372.87 L1958.97 1372.87 L1958.97 1372.87  Z\n",
       "  \" fill=\"#009af9\" fill-rule=\"evenodd\" fill-opacity=\"1\"/>\n",
       "<polyline clip-path=\"url(#clip082)\" style=\"stroke:#000000; stroke-width:4; stroke-opacity:1; fill:none\" points=\"\n",
       "  1958.97,1372.87 1958.97,1445.72 2050.59,1445.72 2050.59,1372.87 1958.97,1372.87 \n",
       "  \"/>\n",
       "<path clip-path=\"url(#clip082)\" d=\"\n",
       "M2050.59 1430.47 L2050.59 1445.72 L2142.22 1445.72 L2142.22 1430.47 L2050.59 1430.47 L2050.59 1430.47  Z\n",
       "  \" fill=\"#009af9\" fill-rule=\"evenodd\" fill-opacity=\"1\"/>\n",
       "<polyline clip-path=\"url(#clip082)\" style=\"stroke:#000000; stroke-width:4; stroke-opacity:1; fill:none\" points=\"\n",
       "  2050.59,1430.47 2050.59,1445.72 2142.22,1445.72 2142.22,1430.47 2050.59,1430.47 \n",
       "  \"/>\n",
       "<path clip-path=\"url(#clip082)\" d=\"\n",
       "M2142.22 87.9763 L2142.22 1445.72 L2233.84 1445.72 L2233.84 87.9763 L2142.22 87.9763 L2142.22 87.9763  Z\n",
       "  \" fill=\"#009af9\" fill-rule=\"evenodd\" fill-opacity=\"1\"/>\n",
       "<polyline clip-path=\"url(#clip082)\" style=\"stroke:#000000; stroke-width:4; stroke-opacity:1; fill:none\" points=\"\n",
       "  2142.22,87.9763 2142.22,1445.72 2233.84,1445.72 2233.84,87.9763 2142.22,87.9763 \n",
       "  \"/>\n",
       "<path clip-path=\"url(#clip080)\" d=\"\n",
       "M1989.45 216.178 L2280.69 216.178 L2280.69 95.2176 L1989.45 95.2176  Z\n",
       "  \" fill=\"#ffffff\" fill-rule=\"evenodd\" fill-opacity=\"1\"/>\n",
       "<polyline clip-path=\"url(#clip080)\" style=\"stroke:#000000; stroke-width:4; stroke-opacity:1; fill:none\" points=\"\n",
       "  1989.45,216.178 2280.69,216.178 2280.69,95.2176 1989.45,95.2176 1989.45,216.178 \n",
       "  \"/>\n",
       "<path clip-path=\"url(#clip080)\" d=\"\n",
       "M2013.48 179.89 L2157.61 179.89 L2157.61 131.506 L2013.48 131.506 L2013.48 179.89  Z\n",
       "  \" fill=\"#009af9\" fill-rule=\"evenodd\" fill-opacity=\"1\"/>\n",
       "<polyline clip-path=\"url(#clip080)\" style=\"stroke:#000000; stroke-width:4; stroke-opacity:1; fill:none\" points=\"\n",
       "  2013.48,179.89 2157.61,179.89 2157.61,131.506 2013.48,131.506 2013.48,179.89 \n",
       "  \"/>\n",
       "<path clip-path=\"url(#clip080)\" d=\"M 0 0 M2195.47 175.385 Q2193.67 180.015 2191.95 181.427 Q2190.24 182.839 2187.37 182.839 L2183.97 182.839 L2183.97 179.274 L2186.47 179.274 Q2188.23 179.274 2189.2 178.44 Q2190.17 177.607 2191.35 174.505 L2192.11 172.561 L2181.63 147.052 L2186.14 147.052 L2194.24 167.329 L2202.35 147.052 L2206.86 147.052 L2195.47 175.385 Z\" fill=\"#000000\" fill-rule=\"evenodd\" fill-opacity=\"1\" /><path clip-path=\"url(#clip080)\" d=\"M 0 0 M2212.74 169.042 L2220.38 169.042 L2220.38 142.677 L2212.07 144.343 L2212.07 140.084 L2220.33 138.418 L2225.01 138.418 L2225.01 169.042 L2232.65 169.042 L2232.65 172.978 L2212.74 172.978 L2212.74 169.042 Z\" fill=\"#000000\" fill-rule=\"evenodd\" fill-opacity=\"1\" /></svg>\n"
      ]
     },
     "execution_count": 19,
     "metadata": {},
     "output_type": "execute_result"
    }
   ],
   "source": [
    "using Plots\n",
    "histogram(vec(io))"
   ]
  },
  {
   "cell_type": "code",
   "execution_count": 3,
   "metadata": {},
   "outputs": [
    {
     "ename": "LoadError",
     "evalue": "syntax: missing last argument in \"1:\" range expression ",
     "output_type": "error",
     "traceback": [
      "syntax: missing last argument in \"1:\" range expression ",
      ""
     ]
    }
   ],
   "source": [
    "paths = [i for i in readdir(\"DistMat\") if occursin(\".npy\", i)]\n",
    "paths[1:]"
   ]
  },
  {
   "cell_type": "code",
   "execution_count": 14,
   "metadata": {},
   "outputs": [
    {
     "name": "stdout",
     "output_type": "stream",
     "text": [
      "save file: ./test.csv"
     ]
    }
   ],
   "source": [
    "#Paths to your Hi-C distance matrices\n",
    "using Eirene\n",
    "using NPZ\n",
    "using CSV\n",
    "paths = [i for i in readdir(\"DistMat\") if occursin(\".npy\")]\n",
    "\n",
    "for path in paths\n",
    "    \n",
    "#    m = readdlm(\"dist_data/$path\", ',', Float32);\n",
    "    m = npzread(\"DistMat/$path\");\n",
    "    C = eirene(m, model=\"vr\", maxdim=2, maxrad=0.5)\n",
    "    \n",
    "    #form DataFrame\n",
    "    df = DataFrame(Replica = String[],\n",
    "        Class = Int64[], Dim = Int64[], \n",
    "        Birth = Float64[], Death = Float64[], Lifetime = Float64[], \n",
    "        Numvert = Int64[], Range = Int64[],  Vertices = Array{Int64,1}[])\n",
    "\n",
    "#Replica number (take from filename)\n",
    "    rep = String(match(r\"\\d+.\", path).match)\n",
    "    \n",
    "    maxdim=2\n",
    "    for d in 1:maxdim\n",
    "            bar = barcode(C, dim=d)\n",
    "            dimsize = size(bar)[1]\n",
    "            #n_cyclenumber = size(C[\"cyclerep\"][d+2])[1]\n",
    "\n",
    "            #  Dataframe: chr | class | dim | birth | death | lifetime | cycle rep\n",
    "            #chrs = [chr for i in 1:dimsize]\n",
    "            #segments = [segment for i in 1:dimsize]\n",
    "            replicas = [rep for i in 1:dimsize]\n",
    "            classes = [i for i in 1:dimsize]\n",
    "            dims = [d for i in 1:dimsize]\n",
    "            births = bar[:,1]\n",
    "            deaths = bar[:,2]\n",
    "            lifetimes = bar[:,2] - bar[:,1]\n",
    "            #extract only unique vertices of representative cycles\n",
    "            unique_vertices = [sort(unique(vec(classrep(C, class=cl, dim=d)))) for cl in 1:dimsize]\n",
    "            numvert = [size(u)[1] for u in unique_vertices]\n",
    "            range = [maximum(u) - minimum(u) for u in unique_vertices]\n",
    "\n",
    "            tmpdf = DataFrame(  Replica = replicas,\n",
    "                                Class = classes, Dim = dims, \n",
    "                                Birth = births, Death = deaths, Lifetime = lifetimes, \n",
    "                                Numvert = numvert, Range=range, Vertices = unique_vertices )\n",
    "            append!(df, tmpdf)\n",
    "        end\n",
    "#save results to DataFrame\n",
    "    savename = \"./results/$path.csv\"\n",
    "    CSV.write(savename, df)\n",
    "    print(\"save file: $savename\")\n",
    "    end"
   ]
  },
  {
   "cell_type": "code",
   "execution_count": null,
   "metadata": {},
   "outputs": [],
   "source": []
  }
 ],
 "metadata": {
  "@webio": {
   "lastCommId": "02b1640e8e4a481d9c1df69eab826578",
   "lastKernelId": "d3e760dc-87f8-417f-9ba6-17bc19551eec"
  },
  "kernelspec": {
   "display_name": "Julia 1.4.1",
   "language": "julia",
   "name": "julia-1.4"
  },
  "language_info": {
   "file_extension": ".jl",
   "mimetype": "application/julia",
   "name": "julia",
   "version": "1.4.1"
  }
 },
 "nbformat": 4,
 "nbformat_minor": 4
}
